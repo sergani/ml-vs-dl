{
 "cells": [
  {
   "cell_type": "markdown",
   "metadata": {},
   "source": [
    "# Import Modules"
   ]
  },
  {
   "cell_type": "code",
   "execution_count": 33,
   "metadata": {
    "execution": {
     "iopub.execute_input": "2022-11-19T21:02:32.562463Z",
     "iopub.status.busy": "2022-11-19T21:02:32.561818Z",
     "iopub.status.idle": "2022-11-19T21:02:35.265741Z",
     "shell.execute_reply": "2022-11-19T21:02:35.265015Z",
     "shell.execute_reply.started": "2022-11-19T21:02:32.562387Z"
    },
    "tags": []
   },
   "outputs": [],
   "source": [
    "import matplotlib as mpl\n",
    "import matplotlib.pyplot as plt\n",
    "import numpy as np\n",
    "import os\n",
    "import pandas as pd\n",
    "import seaborn as sns\n",
    "import shutil\n",
    "import tensorflow as tf\n",
    "\n",
    "from datetime import datetime\n",
    "from keras.layers import Dense\n",
    "from keras.models import Sequential\n",
    "from sklearn import metrics\n",
    "from sklearn.ensemble import RandomForestClassifier\n",
    "from sklearn.ensemble import RandomForestRegressor\n",
    "from sklearn.ensemble import VotingClassifier\n",
    "from sklearn.exceptions import ConvergenceWarning\n",
    "from sklearn.feature_selection import chi2\n",
    "from sklearn.feature_selection import r_regression, SelectKBest\n",
    "from sklearn.feature_selection import r_regression, SelectPercentile\n",
    "from sklearn.feature_selection import f_regression\n",
    "from sklearn.linear_model import LogisticRegression, RidgeCV, LassoCV, Ridge, Lasso\n",
    "from sklearn.metrics import roc_auc_score\n",
    "from sklearn.metrics import roc_curve\n",
    "from sklearn.model_selection import GridSearchCV\n",
    "from sklearn.model_selection import RepeatedStratifiedKFold\n",
    "from sklearn.model_selection import train_test_split\n",
    "from sklearn.naive_bayes import GaussianNB\n",
    "from sklearn.neighbors import KNeighborsClassifier\n",
    "from sklearn.preprocessing import MinMaxScaler\n",
    "from sklearn.preprocessing import OrdinalEncoder\n",
    "from sklearn.preprocessing import StandardScaler\n",
    "from sklearn.svm import SVC\n",
    "from sklearn.tree import DecisionTreeClassifier\n",
    "from sklearn.utils._testing import ignore_warnings\n",
    "from tensorflow import keras\n",
    "from keras.callbacks import TensorBoard\n",
    "from tabulate import tabulate\n",
    "from xgboost import XGBClassifier\n",
    "\n",
    "%matplotlib inline\n"
   ]
  },
  {
   "cell_type": "code",
   "execution_count": 34,
   "metadata": {
    "execution": {
     "iopub.execute_input": "2022-11-19T21:02:37.512038Z",
     "iopub.status.busy": "2022-11-19T21:02:37.511727Z",
     "iopub.status.idle": "2022-11-19T21:02:37.515841Z",
     "shell.execute_reply": "2022-11-19T21:02:37.515091Z",
     "shell.execute_reply.started": "2022-11-19T21:02:37.512015Z"
    },
    "tags": []
   },
   "outputs": [],
   "source": [
    "pd.set_option('display.show_dimensions', True)\n",
    "pd.set_option('display.max_columns', 200)\n"
   ]
  },
  {
   "cell_type": "markdown",
   "metadata": {},
   "source": [
    "# Load Data"
   ]
  },
  {
   "cell_type": "code",
   "execution_count": 35,
   "metadata": {
    "execution": {
     "iopub.execute_input": "2022-11-19T21:02:37.517039Z",
     "iopub.status.busy": "2022-11-19T21:02:37.516724Z",
     "iopub.status.idle": "2022-11-19T21:02:38.859592Z",
     "shell.execute_reply": "2022-11-19T21:02:38.858892Z",
     "shell.execute_reply.started": "2022-11-19T21:02:37.517021Z"
    },
    "tags": []
   },
   "outputs": [],
   "source": [
    "df = pd.read_csv('../Datasets/titanic.csv')"
   ]
  },
  {
   "cell_type": "code",
   "execution_count": 36,
   "metadata": {
    "execution": {
     "iopub.execute_input": "2022-11-19T21:02:38.862388Z",
     "iopub.status.busy": "2022-11-19T21:02:38.861966Z",
     "iopub.status.idle": "2022-11-19T21:02:38.888079Z",
     "shell.execute_reply": "2022-11-19T21:02:38.887368Z",
     "shell.execute_reply.started": "2022-11-19T21:02:38.862356Z"
    },
    "tags": []
   },
   "outputs": [
    {
     "data": {
      "text/html": [
       "<div>\n",
       "<style scoped>\n",
       "    .dataframe tbody tr th:only-of-type {\n",
       "        vertical-align: middle;\n",
       "    }\n",
       "\n",
       "    .dataframe tbody tr th {\n",
       "        vertical-align: top;\n",
       "    }\n",
       "\n",
       "    .dataframe thead th {\n",
       "        text-align: right;\n",
       "    }\n",
       "</style>\n",
       "<table border=\"1\" class=\"dataframe\">\n",
       "  <thead>\n",
       "    <tr style=\"text-align: right;\">\n",
       "      <th></th>\n",
       "      <th>PassengerId</th>\n",
       "      <th>Survived</th>\n",
       "      <th>Pclass</th>\n",
       "      <th>Name</th>\n",
       "      <th>Sex</th>\n",
       "      <th>Age</th>\n",
       "      <th>SibSp</th>\n",
       "      <th>Parch</th>\n",
       "      <th>Ticket</th>\n",
       "      <th>Fare</th>\n",
       "      <th>Cabin</th>\n",
       "      <th>Embarked</th>\n",
       "    </tr>\n",
       "  </thead>\n",
       "  <tbody>\n",
       "    <tr>\n",
       "      <th>0</th>\n",
       "      <td>1</td>\n",
       "      <td>0</td>\n",
       "      <td>3</td>\n",
       "      <td>Braund, Mr. Owen Harris</td>\n",
       "      <td>male</td>\n",
       "      <td>22.0</td>\n",
       "      <td>1</td>\n",
       "      <td>0</td>\n",
       "      <td>A/5 21171</td>\n",
       "      <td>7.2500</td>\n",
       "      <td>NaN</td>\n",
       "      <td>S</td>\n",
       "    </tr>\n",
       "    <tr>\n",
       "      <th>1</th>\n",
       "      <td>2</td>\n",
       "      <td>1</td>\n",
       "      <td>1</td>\n",
       "      <td>Cumings, Mrs. John Bradley (Florence Briggs Th...</td>\n",
       "      <td>female</td>\n",
       "      <td>38.0</td>\n",
       "      <td>1</td>\n",
       "      <td>0</td>\n",
       "      <td>PC 17599</td>\n",
       "      <td>71.2833</td>\n",
       "      <td>C85</td>\n",
       "      <td>C</td>\n",
       "    </tr>\n",
       "    <tr>\n",
       "      <th>2</th>\n",
       "      <td>3</td>\n",
       "      <td>1</td>\n",
       "      <td>3</td>\n",
       "      <td>Heikkinen, Miss. Laina</td>\n",
       "      <td>female</td>\n",
       "      <td>26.0</td>\n",
       "      <td>0</td>\n",
       "      <td>0</td>\n",
       "      <td>STON/O2. 3101282</td>\n",
       "      <td>7.9250</td>\n",
       "      <td>NaN</td>\n",
       "      <td>S</td>\n",
       "    </tr>\n",
       "    <tr>\n",
       "      <th>3</th>\n",
       "      <td>4</td>\n",
       "      <td>1</td>\n",
       "      <td>1</td>\n",
       "      <td>Futrelle, Mrs. Jacques Heath (Lily May Peel)</td>\n",
       "      <td>female</td>\n",
       "      <td>35.0</td>\n",
       "      <td>1</td>\n",
       "      <td>0</td>\n",
       "      <td>113803</td>\n",
       "      <td>53.1000</td>\n",
       "      <td>C123</td>\n",
       "      <td>S</td>\n",
       "    </tr>\n",
       "    <tr>\n",
       "      <th>4</th>\n",
       "      <td>5</td>\n",
       "      <td>0</td>\n",
       "      <td>3</td>\n",
       "      <td>Allen, Mr. William Henry</td>\n",
       "      <td>male</td>\n",
       "      <td>35.0</td>\n",
       "      <td>0</td>\n",
       "      <td>0</td>\n",
       "      <td>373450</td>\n",
       "      <td>8.0500</td>\n",
       "      <td>NaN</td>\n",
       "      <td>S</td>\n",
       "    </tr>\n",
       "  </tbody>\n",
       "</table>\n",
       "<p>5 rows × 12 columns</p>\n",
       "</div>"
      ],
      "text/plain": [
       "   PassengerId  Survived  Pclass  \\\n",
       "0            1         0       3   \n",
       "1            2         1       1   \n",
       "2            3         1       3   \n",
       "3            4         1       1   \n",
       "4            5         0       3   \n",
       "\n",
       "                                                Name     Sex   Age  SibSp  \\\n",
       "0                            Braund, Mr. Owen Harris    male  22.0      1   \n",
       "1  Cumings, Mrs. John Bradley (Florence Briggs Th...  female  38.0      1   \n",
       "2                             Heikkinen, Miss. Laina  female  26.0      0   \n",
       "3       Futrelle, Mrs. Jacques Heath (Lily May Peel)  female  35.0      1   \n",
       "4                           Allen, Mr. William Henry    male  35.0      0   \n",
       "\n",
       "   Parch            Ticket     Fare Cabin Embarked  \n",
       "0      0         A/5 21171   7.2500   NaN        S  \n",
       "1      0          PC 17599  71.2833   C85        C  \n",
       "2      0  STON/O2. 3101282   7.9250   NaN        S  \n",
       "3      0            113803  53.1000  C123        S  \n",
       "4      0            373450   8.0500   NaN        S  \n",
       "\n",
       "[5 rows x 12 columns]"
      ]
     },
     "execution_count": 36,
     "metadata": {},
     "output_type": "execute_result"
    }
   ],
   "source": [
    "df.head()"
   ]
  },
  {
   "cell_type": "code",
   "execution_count": 37,
   "metadata": {},
   "outputs": [
    {
     "data": {
      "text/plain": [
       "PassengerId      0\n",
       "Survived         0\n",
       "Pclass           0\n",
       "Name             0\n",
       "Sex              0\n",
       "Age            177\n",
       "SibSp            0\n",
       "Parch            0\n",
       "Ticket           0\n",
       "Fare             0\n",
       "Cabin          687\n",
       "Embarked         2\n",
       "Length: 12, dtype: int64"
      ]
     },
     "execution_count": 37,
     "metadata": {},
     "output_type": "execute_result"
    }
   ],
   "source": [
    "df.isna().sum()"
   ]
  },
  {
   "cell_type": "code",
   "execution_count": 38,
   "metadata": {},
   "outputs": [],
   "source": [
    "df['Age'].fillna(df['Age'].mean(), inplace=True)\n",
    "df['Cabin'].fillna('Unknown', inplace=True)\n",
    "df['Embarked'].fillna('Unknown', inplace=True)"
   ]
  },
  {
   "cell_type": "markdown",
   "metadata": {},
   "source": [
    "# Categorical Encoding"
   ]
  },
  {
   "cell_type": "code",
   "execution_count": 39,
   "metadata": {
    "execution": {
     "iopub.execute_input": "2022-11-19T21:02:38.889118Z",
     "iopub.status.busy": "2022-11-19T21:02:38.888907Z",
     "iopub.status.idle": "2022-11-19T21:02:38.921541Z",
     "shell.execute_reply": "2022-11-19T21:02:38.920736Z",
     "shell.execute_reply.started": "2022-11-19T21:02:38.889099Z"
    },
    "tags": []
   },
   "outputs": [
    {
     "name": "stdout",
     "output_type": "stream",
     "text": [
      "['Name', 'Sex', 'Ticket', 'Cabin', 'Embarked']\n"
     ]
    }
   ],
   "source": [
    "# create a dataframe copy just for feature selection\n",
    "df_fs = df.copy(deep=True)\n",
    "\n",
    "# encode the categorical data\n",
    "cat_cols = [col for col in df_fs.columns if df_fs[col].dtype == 'object']\n",
    "print(cat_cols)\n",
    "oe = OrdinalEncoder()\n",
    "df_fs[cat_cols] = oe.fit_transform(df_fs[cat_cols])"
   ]
  },
  {
   "cell_type": "code",
   "execution_count": 40,
   "metadata": {
    "execution": {
     "iopub.execute_input": "2022-11-19T21:02:38.922630Z",
     "iopub.status.busy": "2022-11-19T21:02:38.922415Z",
     "iopub.status.idle": "2022-11-19T21:02:38.927383Z",
     "shell.execute_reply": "2022-11-19T21:02:38.926667Z",
     "shell.execute_reply.started": "2022-11-19T21:02:38.922610Z"
    },
    "tags": []
   },
   "outputs": [
    {
     "data": {
      "text/plain": [
       "(891, 12)"
      ]
     },
     "execution_count": 40,
     "metadata": {},
     "output_type": "execute_result"
    }
   ],
   "source": [
    "df.shape"
   ]
  },
  {
   "cell_type": "markdown",
   "metadata": {},
   "source": [
    "There is no categorical features in this dataset. We will proceed forward using the original dataframe (df)."
   ]
  },
  {
   "cell_type": "markdown",
   "metadata": {},
   "source": [
    "# Feature Selection"
   ]
  },
  {
   "cell_type": "markdown",
   "metadata": {},
   "source": [
    "## Drop Useless Features"
   ]
  },
  {
   "cell_type": "code",
   "execution_count": 41,
   "metadata": {
    "execution": {
     "iopub.execute_input": "2022-11-19T21:02:38.928434Z",
     "iopub.status.busy": "2022-11-19T21:02:38.928216Z",
     "iopub.status.idle": "2022-11-19T21:02:38.954923Z",
     "shell.execute_reply": "2022-11-19T21:02:38.954266Z",
     "shell.execute_reply.started": "2022-11-19T21:02:38.928415Z"
    },
    "tags": []
   },
   "outputs": [],
   "source": [
    "x = df_fs.drop('Survived', axis=1)\n",
    "y = df_fs['Survived']"
   ]
  },
  {
   "cell_type": "code",
   "execution_count": 42,
   "metadata": {
    "execution": {
     "iopub.execute_input": "2022-11-19T21:02:38.956334Z",
     "iopub.status.busy": "2022-11-19T21:02:38.955763Z",
     "iopub.status.idle": "2022-11-19T21:02:38.959707Z",
     "shell.execute_reply": "2022-11-19T21:02:38.959209Z",
     "shell.execute_reply.started": "2022-11-19T21:02:38.956297Z"
    },
    "tags": []
   },
   "outputs": [],
   "source": [
    "# create this empty set to collect only the selected features later\n",
    "features = set()"
   ]
  },
  {
   "cell_type": "markdown",
   "metadata": {},
   "source": [
    "## Lasso Model"
   ]
  },
  {
   "cell_type": "code",
   "execution_count": 43,
   "metadata": {
    "execution": {
     "iopub.execute_input": "2022-11-19T21:02:38.960654Z",
     "iopub.status.busy": "2022-11-19T21:02:38.960443Z",
     "iopub.status.idle": "2022-11-19T21:02:41.543715Z",
     "shell.execute_reply": "2022-11-19T21:02:41.543037Z",
     "shell.execute_reply.started": "2022-11-19T21:02:38.960635Z"
    }
   },
   "outputs": [
    {
     "name": "stdout",
     "output_type": "stream",
     "text": [
      "Best alpha using built-in LassoCV: 0.016064\n",
      "Best score using built-in LassoCV: 0.389652\n"
     ]
    }
   ],
   "source": [
    "reg = LassoCV()\n",
    "reg.fit(x, y)\n",
    "print(\"Best alpha using built-in LassoCV: %f\" % reg.alpha_)\n",
    "print(\"Best score using built-in LassoCV: %f\" % reg.score(x, y))\n",
    "coef = pd.Series(reg.coef_, index=x.columns)"
   ]
  },
  {
   "cell_type": "code",
   "execution_count": 44,
   "metadata": {
    "execution": {
     "iopub.execute_input": "2022-11-19T21:02:41.544974Z",
     "iopub.status.busy": "2022-11-19T21:02:41.544649Z",
     "iopub.status.idle": "2022-11-19T21:02:41.549137Z",
     "shell.execute_reply": "2022-11-19T21:02:41.548540Z",
     "shell.execute_reply.started": "2022-11-19T21:02:41.544952Z"
    }
   },
   "outputs": [
    {
     "name": "stdout",
     "output_type": "stream",
     "text": [
      "Lasso picked 10 variables and eliminated the other 1 variables.\n"
     ]
    }
   ],
   "source": [
    "print(\"Lasso picked \" + str(sum(coef != 0)) +\n",
    "      \" variables and eliminated the other \" + str(sum(coef == 0)) + \" variables.\")"
   ]
  },
  {
   "cell_type": "code",
   "execution_count": 45,
   "metadata": {
    "execution": {
     "iopub.execute_input": "2022-11-19T21:02:41.550189Z",
     "iopub.status.busy": "2022-11-19T21:02:41.549932Z",
     "iopub.status.idle": "2022-11-19T21:02:41.784126Z",
     "shell.execute_reply": "2022-11-19T21:02:41.783538Z",
     "shell.execute_reply.started": "2022-11-19T21:02:41.550171Z"
    }
   },
   "outputs": [
    {
     "data": {
      "text/plain": [
       "Text(0.5, 1.0, 'Feature importance using Lasso Model')"
      ]
     },
     "execution_count": 45,
     "metadata": {},
     "output_type": "execute_result"
    },
    {
     "data": {
      "image/png": "[encoded data removed]",
      "text/plain": [
       "<Figure size 800x1000 with 1 Axes>"
      ]
     },
     "metadata": {},
     "output_type": "display_data"
    }
   ],
   "source": [
    "imp_coef = coef.sort_values()\n",
    "mpl.rcParams['figure.figsize'] = (8, 10)\n",
    "imp_coef.plot(kind=\"barh\")\n",
    "plt.title(\"Feature importance using Lasso Model\")\n"
   ]
  },
  {
   "cell_type": "code",
   "execution_count": 46,
   "metadata": {
    "execution": {
     "iopub.execute_input": "2022-11-19T21:02:41.785219Z",
     "iopub.status.busy": "2022-11-19T21:02:41.784951Z",
     "iopub.status.idle": "2022-11-19T21:02:41.789033Z",
     "shell.execute_reply": "2022-11-19T21:02:41.788505Z",
     "shell.execute_reply.started": "2022-11-19T21:02:41.785197Z"
    }
   },
   "outputs": [
    {
     "name": "stdout",
     "output_type": "stream",
     "text": [
      "Adding Sex.\n",
      "Adding Pclass.\n",
      "Adding SibSp.\n",
      "Adding Embarked.\n",
      "Adding Age.\n",
      "Adding Cabin.\n",
      "Adding Ticket.\n",
      "Adding Name.\n",
      "Adding PassengerId.\n",
      "Adding Fare.\n"
     ]
    }
   ],
   "source": [
    "for item in imp_coef[imp_coef != 0].index.tolist():\n",
    "    print(f'Adding {item}.')\n",
    "    features.add(item)"
   ]
  },
  {
   "cell_type": "markdown",
   "metadata": {},
   "source": [
    "## Chi-square"
   ]
  },
  {
   "cell_type": "code",
   "execution_count": 47,
   "metadata": {
    "execution": {
     "iopub.execute_input": "2022-11-19T21:02:41.791604Z",
     "iopub.status.busy": "2022-11-19T21:02:41.791132Z",
     "iopub.status.idle": "2022-11-19T21:02:41.917498Z",
     "shell.execute_reply": "2022-11-19T21:02:41.916810Z",
     "shell.execute_reply.started": "2022-11-19T21:02:41.791585Z"
    }
   },
   "outputs": [],
   "source": [
    "# x contains negative values that cannot be used for chi2\n",
    "# let's normalize x\n",
    "scalar = MinMaxScaler()\n",
    "x_chi = scalar.fit_transform(x)\n",
    "chi_scores = chi2(x_chi, y)"
   ]
  },
  {
   "cell_type": "code",
   "execution_count": 48,
   "metadata": {
    "execution": {
     "iopub.execute_input": "2022-11-19T21:02:41.919151Z",
     "iopub.status.busy": "2022-11-19T21:02:41.918565Z",
     "iopub.status.idle": "2022-11-19T21:02:42.134983Z",
     "shell.execute_reply": "2022-11-19T21:02:42.134368Z",
     "shell.execute_reply.started": "2022-11-19T21:02:41.919122Z"
    }
   },
   "outputs": [
    {
     "data": {
      "text/plain": [
       "<AxesSubplot:>"
      ]
     },
     "execution_count": 48,
     "metadata": {},
     "output_type": "execute_result"
    },
    {
     "data": {
      "image/png": "[encoded data removed]",
      "text/plain": [
       "<Figure size 800x1000 with 1 Axes>"
      ]
     },
     "metadata": {},
     "output_type": "display_data"
    }
   ],
   "source": [
    "# extract and plot the p-values\n",
    "p_values = pd.Series(chi_scores[1], index=x.columns)\n",
    "p_values.sort_values(ascending=False, inplace=True)\n",
    "p_values.plot.bar()"
   ]
  },
  {
   "cell_type": "code",
   "execution_count": 49,
   "metadata": {
    "execution": {
     "iopub.execute_input": "2022-11-19T21:02:42.136080Z",
     "iopub.status.busy": "2022-11-19T21:02:42.135821Z",
     "iopub.status.idle": "2022-11-19T21:02:42.139981Z",
     "shell.execute_reply": "2022-11-19T21:02:42.139450Z",
     "shell.execute_reply.started": "2022-11-19T21:02:42.136060Z"
    }
   },
   "outputs": [
    {
     "name": "stdout",
     "output_type": "stream",
     "text": [
      "Adding PassengerId.\n",
      "Adding Age.\n",
      "Adding SibSp.\n",
      "Adding Name.\n",
      "Adding Parch.\n",
      "Adding Embarked.\n",
      "Adding Cabin.\n",
      "Adding Ticket.\n",
      "Adding Fare.\n"
     ]
    }
   ],
   "source": [
    "for item in p_values[p_values > 0.001].index.tolist():\n",
    "    print(f'Adding {item}.')\n",
    "    features.add(item)"
   ]
  },
  {
   "cell_type": "markdown",
   "metadata": {},
   "source": [
    "## ANOVA f-value"
   ]
  },
  {
   "cell_type": "code",
   "execution_count": 50,
   "metadata": {
    "execution": {
     "iopub.execute_input": "2022-11-19T21:02:42.141160Z",
     "iopub.status.busy": "2022-11-19T21:02:42.140685Z",
     "iopub.status.idle": "2022-11-19T21:02:42.375743Z",
     "shell.execute_reply": "2022-11-19T21:02:42.375122Z",
     "shell.execute_reply.started": "2022-11-19T21:02:42.141141Z"
    }
   },
   "outputs": [
    {
     "data": {
      "text/plain": [
       "<AxesSubplot:>"
      ]
     },
     "execution_count": 50,
     "metadata": {},
     "output_type": "execute_result"
    },
    {
     "data": {
      "image/png": "[encoded data removed]",
      "text/plain": [
       "<Figure size 800x1000 with 1 Axes>"
      ]
     },
     "metadata": {},
     "output_type": "display_data"
    }
   ],
   "source": [
    "f_scores = f_regression(x, y)\n",
    "# extract and plot the p-values\n",
    "p_values = pd.Series(f_scores[1], index=x.columns)\n",
    "p_values.sort_values(ascending=False, inplace=True)\n",
    "p_values.plot.bar()"
   ]
  },
  {
   "cell_type": "code",
   "execution_count": 51,
   "metadata": {
    "execution": {
     "iopub.execute_input": "2022-11-19T21:02:42.376907Z",
     "iopub.status.busy": "2022-11-19T21:02:42.376619Z",
     "iopub.status.idle": "2022-11-19T21:02:42.380754Z",
     "shell.execute_reply": "2022-11-19T21:02:42.380160Z",
     "shell.execute_reply.started": "2022-11-19T21:02:42.376887Z"
    }
   },
   "outputs": [
    {
     "name": "stdout",
     "output_type": "stream",
     "text": [
      "Adding PassengerId.\n",
      "Adding SibSp.\n",
      "Adding Name.\n",
      "Adding Age.\n",
      "Adding Parch.\n"
     ]
    }
   ],
   "source": [
    "for item in p_values[p_values > 0.0001].index.tolist():\n",
    "    print(f'Adding {item}.')\n",
    "    features.add(item)"
   ]
  },
  {
   "cell_type": "markdown",
   "metadata": {},
   "source": [
    "## Selected Features"
   ]
  },
  {
   "cell_type": "code",
   "execution_count": 52,
   "metadata": {
    "execution": {
     "iopub.execute_input": "2022-11-19T21:02:42.381869Z",
     "iopub.status.busy": "2022-11-19T21:02:42.381517Z",
     "iopub.status.idle": "2022-11-19T21:02:42.386165Z",
     "shell.execute_reply": "2022-11-19T21:02:42.385651Z",
     "shell.execute_reply.started": "2022-11-19T21:02:42.381850Z"
    }
   },
   "outputs": [
    {
     "name": "stdout",
     "output_type": "stream",
     "text": [
      "These are the selected features: {'Sex', 'Cabin', 'PassengerId', 'Age', 'Embarked', 'Name', 'Ticket', 'Parch', 'Pclass', 'Fare', 'SibSp'}.\n"
     ]
    }
   ],
   "source": [
    "print(f'These are the selected features: {features}.')"
   ]
  },
  {
   "cell_type": "code",
   "execution_count": 53,
   "metadata": {
    "execution": {
     "iopub.execute_input": "2022-11-19T21:02:42.387105Z",
     "iopub.status.busy": "2022-11-19T21:02:42.386844Z",
     "iopub.status.idle": "2022-11-19T21:02:42.409513Z",
     "shell.execute_reply": "2022-11-19T21:02:42.408919Z",
     "shell.execute_reply.started": "2022-11-19T21:02:42.387080Z"
    }
   },
   "outputs": [],
   "source": [
    "# categorical encoded columns + selected features only\n",
    "x = df_fs[list(features)]\n",
    "y = df_fs['Survived']"
   ]
  },
  {
   "cell_type": "markdown",
   "metadata": {},
   "source": [
    "# Machine Learning"
   ]
  },
  {
   "cell_type": "code",
   "execution_count": 54,
   "metadata": {
    "execution": {
     "iopub.execute_input": "2022-11-19T21:02:42.410648Z",
     "iopub.status.busy": "2022-11-19T21:02:42.410372Z",
     "iopub.status.idle": "2022-11-19T21:02:42.492907Z",
     "shell.execute_reply": "2022-11-19T21:02:42.492255Z",
     "shell.execute_reply.started": "2022-11-19T21:02:42.410629Z"
    }
   },
   "outputs": [],
   "source": [
    "# sc = StandardScaler()\n",
    "# x = sc.fit_transform(x)"
   ]
  },
  {
   "cell_type": "code",
   "execution_count": 55,
   "metadata": {
    "execution": {
     "iopub.execute_input": "2022-11-19T21:02:42.494276Z",
     "iopub.status.busy": "2022-11-19T21:02:42.493781Z",
     "iopub.status.idle": "2022-11-19T21:02:42.572028Z",
     "shell.execute_reply": "2022-11-19T21:02:42.571420Z",
     "shell.execute_reply.started": "2022-11-19T21:02:42.494253Z"
    }
   },
   "outputs": [],
   "source": [
    "x_train, x_test, y_train, y_test = train_test_split(\n",
    "    x, y, test_size=0.2, random_state=0)"
   ]
  },
  {
   "cell_type": "code",
   "execution_count": 56,
   "metadata": {
    "execution": {
     "iopub.execute_input": "2022-11-19T21:03:04.439692Z",
     "iopub.status.busy": "2022-11-19T21:03:04.439334Z",
     "iopub.status.idle": "2022-11-19T21:03:04.463744Z",
     "shell.execute_reply": "2022-11-19T21:03:04.463203Z",
     "shell.execute_reply.started": "2022-11-19T21:03:04.439669Z"
    },
    "tags": []
   },
   "outputs": [],
   "source": [
    "@ignore_warnings(category=ConvergenceWarning)\n",
    "class ClassifierModels():\n",
    "    def __init__(self, df, x, y, x_test, y_test):\n",
    "        '''Init function. Make sure to pass x_train and y_train here.'''\n",
    "\n",
    "        self.df = df\n",
    "        self.x = x\n",
    "        self.y = y\n",
    "        self.x_test = x_test\n",
    "        self.y_test = y_test\n",
    "        \n",
    "        print('#' * 60)\n",
    "        print(f'{\" Loading dataframe \":#^60}')\n",
    "        print('#' * 60)\n",
    "        print(f'{\" Getting best parameters to create our models \":#^60}')\n",
    "        print('#' * 60)\n",
    "\n",
    "        # hold abbreviations and full names\n",
    "        self.model_abr = {\n",
    "            'lr': 'Logistic Regression',\n",
    "            'knn': 'KNeighbors Classifier',\n",
    "            'svm': 'Support Vector Machine',\n",
    "            'dtc': 'Decision Tree Classifier',\n",
    "            'rfc': 'Random Forest Classifier',\n",
    "            'ensemble': 'Voting Classifier',\n",
    "            'xgb': 'XGB Classifier',\n",
    "            'nb': 'Naive Bayes'\n",
    "            }\n",
    "\n",
    "        # hold the actual models\n",
    "        self.models = {}\n",
    "        self.model_predicts = {}\n",
    "        self.model_predicts_proba = {}\n",
    "\n",
    "        # loop over the models dict to get each model's best params\n",
    "        for model in self.model_abr:\n",
    "            print('#' * 60)\n",
    "            print(f'{\" \" + self.model_abr[model] + \" \":#^60}')\n",
    "            print('#' * 60)\n",
    "            params = self.get_best_params(model)\n",
    "\n",
    "            print('+++++ Best parameters for the {} model: {}'.format(\n",
    "                self.model_abr[model], params))\n",
    "            print('+++++ Creating and fitting the {} model using its best parameters...'.format(\n",
    "                self.model_abr[model]))\n",
    "            # print('+++++ Creating and fitting the {} model using its default parameters...'.format(\n",
    "            #     self.model_abr[model]))\n",
    "\n",
    "            if model == 'lr':\n",
    "                m = LogisticRegression(\n",
    "                    solver=params['solver'],\n",
    "                    penalty=params['penalty'],\n",
    "                    C=params['C'],\n",
    "                    n_jobs=-1\n",
    "                    )\n",
    "                # m = LogisticRegression(n_jobs=-1)\n",
    "                m.fit(self.x, self.y)\n",
    "\n",
    "                self.models[model] = m\n",
    "\n",
    "            elif model == 'knn':\n",
    "                m = KNeighborsClassifier(\n",
    "                    n_neighbors=params['n_neighbors'],\n",
    "                    weights=params['weights'],\n",
    "                    metric=params['metric'],\n",
    "                    n_jobs=-1\n",
    "                    )\n",
    "                # m = KNeighborsClassifier(n_jobs=-1)\n",
    "                m.fit(self.x, self.y)\n",
    "\n",
    "                self.models[model] = m\n",
    "\n",
    "            elif model == 'svm':\n",
    "                m = SVC(\n",
    "                    kernel=params['kernel'],\n",
    "                    C=params['C'],\n",
    "                    gamma=params['gamma'],\n",
    "                    probability=True\n",
    "                    )\n",
    "                # m = SVC(probability=True)\n",
    "                m.fit(self.x, self.y)\n",
    "\n",
    "                self.models[model] = m\n",
    "\n",
    "            elif model == 'dtc':\n",
    "                m = DecisionTreeClassifier(\n",
    "                    criterion=params['criterion'],\n",
    "                    splitter=params['splitter'],\n",
    "                    max_features=params['max_features']\n",
    "                    )\n",
    "                # m = DecisionTreeClassifier()\n",
    "                m.fit(self.x, self.y)\n",
    "\n",
    "                self.models[model] = m\n",
    "\n",
    "            elif model == 'rfc':\n",
    "                m = RandomForestClassifier(\n",
    "                    n_estimators=params['n_estimators'],\n",
    "                    max_features=params['max_features'],\n",
    "                    n_jobs=-1\n",
    "                    )\n",
    "                # m = RandomForestClassifier(n_jobs=-1)\n",
    "                m.fit(self.x, self.y)\n",
    "\n",
    "                self.models[model] = m\n",
    "\n",
    "            elif model == 'ensemble':\n",
    "                m = VotingClassifier(\n",
    "                    estimators=[\n",
    "                        ('Logistic Regression', self.models['lr']),\n",
    "                        ('Decission Tree Classifier', self.models['dtc']),\n",
    "                        ('Random Forrest Classifier', self.models['rfc']),\n",
    "                        ('KNN', self.models['knn']),\n",
    "                        ('SVM', self.models['svm'])\n",
    "                        ],\n",
    "                    weights=[10, 10, 10, 10, 10],\n",
    "                    # weights=[10, 10, 10, 10],\n",
    "                    voting='soft', \n",
    "                    n_jobs=-1)\n",
    "                m.fit(self.x, self.y)\n",
    "\n",
    "                self.models[model] = m\n",
    "\n",
    "            elif model == 'xgb':\n",
    "                m = XGBClassifier(use_label_encoder=False)\n",
    "                m.fit(self.x, self.y)\n",
    "\n",
    "                self.models[model] = m\n",
    "\n",
    "            elif model == 'nb':\n",
    "                m = GaussianNB()\n",
    "                m.fit(self.x, self.y)\n",
    "\n",
    "                self.models[model] = m\n",
    "\n",
    "        print('#' * 60)\n",
    "        print(f'{\" All models created and fitted successfully! \":#^60}')\n",
    "        print('#' * 60)\n",
    "\n",
    "        # loop over the models and get the y_pred\n",
    "        for model in self.model_abr:\n",
    "            y_pred = self.models[model].predict(self.x_test)\n",
    "\n",
    "            self.model_predicts[model] = y_pred\n",
    "        \n",
    "        print('#' * 60)\n",
    "        print(f'{\" All y_preds created successfully! \":#^60}')\n",
    "        print('#' * 60)\n",
    "\n",
    "        # loop over the models and get the y_pred_proba\n",
    "        for model in self.model_abr:\n",
    "            y_pred_proba = self.models[model].predict_proba(self.x_test)\n",
    "\n",
    "            self.model_predicts_proba[model] = y_pred_proba\n",
    "        \n",
    "        print('#' * 60)\n",
    "        print(f'{\" All y_pred_probas created successfully! \":#^60}')\n",
    "        print('#' * 60)\n",
    "\n",
    "    @ignore_warnings(category=ConvergenceWarning)\n",
    "    def get_best_params(self, model):\n",
    "        '''This method returns the best params for hypertuning each model'''\n",
    "\n",
    "        if model == 'lr':\n",
    "            # model\n",
    "            lr_model = LogisticRegression()\n",
    "\n",
    "            # params\n",
    "            solver = ['newton-cg', 'lbfgs', 'liblinear']\n",
    "            penalty = ['l2']\n",
    "            C = [100, 10, 1.0, 0.1, 0.01]\n",
    "            lr_params = dict(solver=solver, penalty=penalty, C=C)\n",
    "\n",
    "            # cross validation\n",
    "            cv = RepeatedStratifiedKFold(\n",
    "                n_splits=2, n_repeats=1, random_state=1)\n",
    "            lr_gsearch = GridSearchCV(\n",
    "                estimator=lr_model,\n",
    "                param_grid=lr_params,\n",
    "                cv=cv,\n",
    "                scoring='accuracy',\n",
    "                error_score=0,\n",
    "                n_jobs=-1)\n",
    "            lr_gresult = lr_gsearch.fit(self.x, self.y)\n",
    "\n",
    "            return lr_gresult.best_params_\n",
    "\n",
    "        elif model == 'knn':\n",
    "            # model\n",
    "            knn_model = KNeighborsClassifier()\n",
    "\n",
    "            # params\n",
    "            n_neighbors = [50, 100, 500]\n",
    "            weights = ['uniform', 'distance']\n",
    "            metric = ['euclidean', 'manhattan', 'minkowski']\n",
    "            knn_params = dict(n_neighbors=n_neighbors,\n",
    "                              weights=weights, metric=metric)\n",
    "\n",
    "            # cross validation\n",
    "            cv = RepeatedStratifiedKFold(\n",
    "                n_splits=2, n_repeats=1, random_state=1)\n",
    "            knn_gsearch = GridSearchCV(\n",
    "                estimator=knn_model,\n",
    "                param_grid=knn_params,\n",
    "                cv=cv,\n",
    "                scoring='accuracy',\n",
    "                error_score=0,\n",
    "                n_jobs=-1)\n",
    "            knn_gresult = knn_gsearch.fit(self.x, self.y)\n",
    "\n",
    "            return knn_gresult.best_params_\n",
    "\n",
    "        elif model == 'svm':\n",
    "            # model\n",
    "            svm_model = SVC()\n",
    "\n",
    "            # params\n",
    "            kernel = ['poly', 'rbf', 'sigmoid']\n",
    "            C = [50, 10, 1.0, 0.1, 0.01]\n",
    "            gamma = ['scale']\n",
    "            svm_params = dict(kernel=kernel, C=C, gamma=gamma)\n",
    "\n",
    "            # cross validation\n",
    "            cv = RepeatedStratifiedKFold(\n",
    "                n_splits=2, n_repeats=1, random_state=1)\n",
    "            svm_gsearch = GridSearchCV(\n",
    "                estimator=svm_model,\n",
    "                param_grid=svm_params,\n",
    "                cv=None,\n",
    "                scoring='accuracy',\n",
    "                error_score=0,\n",
    "                n_jobs=-1)\n",
    "            svm_gresult = svm_gsearch.fit(self.x, self.y)\n",
    "\n",
    "            return svm_gresult.best_params_\n",
    "\n",
    "        elif model == 'dtc':\n",
    "            # model\n",
    "            dtc_model = DecisionTreeClassifier()\n",
    "\n",
    "            # params\n",
    "            criterion = ['gini', 'entropy']\n",
    "            splitter = ['best', 'random']\n",
    "            max_features = ['sqrt', 'log2', None]\n",
    "            dtc_params = dict(criterion=criterion,\n",
    "                              splitter=splitter, max_features=max_features)\n",
    "\n",
    "            # cross validation\n",
    "            cv = RepeatedStratifiedKFold(\n",
    "                n_splits=2, n_repeats=1, random_state=1)\n",
    "            dtc_gsearch = GridSearchCV(\n",
    "                estimator=dtc_model,\n",
    "                param_grid=dtc_params,\n",
    "                cv=None,\n",
    "                scoring='accuracy',\n",
    "                error_score=0,\n",
    "                n_jobs=-1)\n",
    "            dtc_gresult = dtc_gsearch.fit(self.x, self.y)\n",
    "\n",
    "            return dtc_gresult.best_params_\n",
    "\n",
    "        elif model == 'rfc':\n",
    "            # model\n",
    "            rfc_model = RandomForestClassifier()\n",
    "\n",
    "            # params\n",
    "            n_estimators = [10, 100, 1000]\n",
    "            max_features = ['sqrt', 'log2']\n",
    "            rfc_params = dict(n_estimators=n_estimators,\n",
    "                              max_features=max_features)\n",
    "\n",
    "            # cross validation\n",
    "            cv = RepeatedStratifiedKFold(\n",
    "                n_splits=2, n_repeats=1, random_state=1)\n",
    "            rfc_gsearch = GridSearchCV(\n",
    "                estimator=rfc_model,\n",
    "                param_grid=rfc_params,\n",
    "                cv=None,\n",
    "                scoring='accuracy',\n",
    "                error_score=0,\n",
    "                n_jobs=-1)\n",
    "            rfc_gresult = rfc_gsearch.fit(self.x, self.y)\n",
    "\n",
    "            return rfc_gresult.best_params_\n",
    "\n",
    "        elif model == 'ensemble':\n",
    "            return\n",
    "\n",
    "        elif model == 'xgb':\n",
    "            return\n",
    "\n",
    "        elif model == 'nb':\n",
    "            return\n",
    "\n",
    "        else:\n",
    "            raise NameError(\n",
    "                'No grid search model available for {}.'.format(model))\n",
    "\n",
    "    def show_performance(self):\n",
    "        '''This method prints the accuracy, precision, recall, and f1 score for each model.'''\n",
    "\n",
    "        headers = ['Accuracy', 'Precision', 'Recall', 'F1 Score']\n",
    "        tbldata = []\n",
    "        for model in self.models:\n",
    "            accuracy = metrics.accuracy_score(\n",
    "                self.y_test, self.model_predicts[model])\n",
    "            f1score = metrics.f1_score(\n",
    "                self.y_test, self.model_predicts[model], average='weighted', zero_division=0)\n",
    "            precision = metrics.precision_score(\n",
    "                self.y_test, self.model_predicts[model], average='weighted', zero_division=0)\n",
    "            recall = metrics.recall_score(\n",
    "                self.y_test, self.model_predicts[model], average='weighted', zero_division=0)\n",
    "\n",
    "            tbldata.append([self.model_abr[model], accuracy,\n",
    "                           precision, recall, f1score])\n",
    "\n",
    "        return tabulate(tbldata, headers=headers, tablefmt=\"pretty\")"
   ]
  },
  {
   "cell_type": "code",
   "execution_count": 57,
   "metadata": {
    "execution": {
     "iopub.execute_input": "2022-11-19T21:05:32.246361Z",
     "iopub.status.busy": "2022-11-19T21:05:32.245974Z",
     "iopub.status.idle": "2022-11-19T21:27:20.240901Z",
     "shell.execute_reply": "2022-11-19T21:27:20.240028Z",
     "shell.execute_reply.started": "2022-11-19T21:05:32.246322Z"
    },
    "tags": []
   },
   "outputs": [
    {
     "name": "stdout",
     "output_type": "stream",
     "text": [
      "############################################################\n",
      "#################### Loading dataframe #####################\n",
      "############################################################\n",
      "####### Getting best parameters to create our models #######\n",
      "############################################################\n",
      "############################################################\n",
      "################### Logistic Regression ####################\n",
      "############################################################\n",
      "+++++ Best parameters for the Logistic Regression model: {'C': 100, 'penalty': 'l2', 'solver': 'newton-cg'}\n",
      "+++++ Creating and fitting the Logistic Regression model using its best parameters...\n"
     ]
    },
    {
     "name": "stderr",
     "output_type": "stream",
     "text": [
      "/Users/sergani/Library/Python/3.9/lib/python/site-packages/sklearn/linear_model/_logistic.py:444: ConvergenceWarning: lbfgs failed to converge (status=1):\n",
      "STOP: TOTAL NO. of ITERATIONS REACHED LIMIT.\n",
      "\n",
      "Increase the number of iterations (max_iter) or scale the data as shown in:\n",
      "    https://scikit-learn.org/stable/modules/preprocessing.html\n",
      "Please also refer to the documentation for alternative solver options:\n",
      "    https://scikit-learn.org/stable/modules/linear_model.html#logistic-regression\n",
      "  n_iter_i = _check_optimize_result(\n",
      "/Users/sergani/Library/Python/3.9/lib/python/site-packages/sklearn/linear_model/_logistic.py:444: ConvergenceWarning: lbfgs failed to converge (status=1):\n",
      "STOP: TOTAL NO. of ITERATIONS REACHED LIMIT.\n",
      "\n",
      "Increase the number of iterations (max_iter) or scale the data as shown in:\n",
      "    https://scikit-learn.org/stable/modules/preprocessing.html\n",
      "Please also refer to the documentation for alternative solver options:\n",
      "    https://scikit-learn.org/stable/modules/linear_model.html#logistic-regression\n",
      "  n_iter_i = _check_optimize_result(\n",
      "/Users/sergani/Library/Python/3.9/lib/python/site-packages/sklearn/linear_model/_logistic.py:444: ConvergenceWarning: lbfgs failed to converge (status=1):\n",
      "STOP: TOTAL NO. of ITERATIONS REACHED LIMIT.\n",
      "\n",
      "Increase the number of iterations (max_iter) or scale the data as shown in:\n",
      "    https://scikit-learn.org/stable/modules/preprocessing.html\n",
      "Please also refer to the documentation for alternative solver options:\n",
      "    https://scikit-learn.org/stable/modules/linear_model.html#logistic-regression\n",
      "  n_iter_i = _check_optimize_result(\n",
      "/Users/sergani/Library/Python/3.9/lib/python/site-packages/sklearn/linear_model/_logistic.py:444: ConvergenceWarning: lbfgs failed to converge (status=1):\n",
      "STOP: TOTAL NO. of ITERATIONS REACHED LIMIT.\n",
      "\n",
      "Increase the number of iterations (max_iter) or scale the data as shown in:\n",
      "    https://scikit-learn.org/stable/modules/preprocessing.html\n",
      "Please also refer to the documentation for alternative solver options:\n",
      "    https://scikit-learn.org/stable/modules/linear_model.html#logistic-regression\n",
      "  n_iter_i = _check_optimize_result(\n",
      "/Users/sergani/Library/Python/3.9/lib/python/site-packages/sklearn/linear_model/_logistic.py:444: ConvergenceWarning: lbfgs failed to converge (status=1):\n",
      "STOP: TOTAL NO. of ITERATIONS REACHED LIMIT.\n",
      "\n",
      "Increase the number of iterations (max_iter) or scale the data as shown in:\n",
      "    https://scikit-learn.org/stable/modules/preprocessing.html\n",
      "Please also refer to the documentation for alternative solver options:\n",
      "    https://scikit-learn.org/stable/modules/linear_model.html#logistic-regression\n",
      "  n_iter_i = _check_optimize_result(\n",
      "/Users/sergani/Library/Python/3.9/lib/python/site-packages/sklearn/linear_model/_logistic.py:444: ConvergenceWarning: lbfgs failed to converge (status=1):\n",
      "STOP: TOTAL NO. of ITERATIONS REACHED LIMIT.\n",
      "\n",
      "Increase the number of iterations (max_iter) or scale the data as shown in:\n",
      "    https://scikit-learn.org/stable/modules/preprocessing.html\n",
      "Please also refer to the documentation for alternative solver options:\n",
      "    https://scikit-learn.org/stable/modules/linear_model.html#logistic-regression\n",
      "  n_iter_i = _check_optimize_result(\n",
      "/Users/sergani/Library/Python/3.9/lib/python/site-packages/sklearn/linear_model/_logistic.py:444: ConvergenceWarning: lbfgs failed to converge (status=1):\n",
      "STOP: TOTAL NO. of ITERATIONS REACHED LIMIT.\n",
      "\n",
      "Increase the number of iterations (max_iter) or scale the data as shown in:\n",
      "    https://scikit-learn.org/stable/modules/preprocessing.html\n",
      "Please also refer to the documentation for alternative solver options:\n",
      "    https://scikit-learn.org/stable/modules/linear_model.html#logistic-regression\n",
      "  n_iter_i = _check_optimize_result(\n",
      "/Users/sergani/Library/Python/3.9/lib/python/site-packages/sklearn/linear_model/_logistic.py:444: ConvergenceWarning: lbfgs failed to converge (status=1):\n",
      "STOP: TOTAL NO. of ITERATIONS REACHED LIMIT.\n",
      "\n",
      "Increase the number of iterations (max_iter) or scale the data as shown in:\n",
      "    https://scikit-learn.org/stable/modules/preprocessing.html\n",
      "Please also refer to the documentation for alternative solver options:\n",
      "    https://scikit-learn.org/stable/modules/linear_model.html#logistic-regression\n",
      "  n_iter_i = _check_optimize_result(\n",
      "/Users/sergani/Library/Python/3.9/lib/python/site-packages/sklearn/linear_model/_logistic.py:444: ConvergenceWarning: lbfgs failed to converge (status=1):\n",
      "STOP: TOTAL NO. of ITERATIONS REACHED LIMIT.\n",
      "\n",
      "Increase the number of iterations (max_iter) or scale the data as shown in:\n",
      "    https://scikit-learn.org/stable/modules/preprocessing.html\n",
      "Please also refer to the documentation for alternative solver options:\n",
      "    https://scikit-learn.org/stable/modules/linear_model.html#logistic-regression\n",
      "  n_iter_i = _check_optimize_result(\n",
      "/Users/sergani/Library/Python/3.9/lib/python/site-packages/sklearn/linear_model/_logistic.py:444: ConvergenceWarning: lbfgs failed to converge (status=1):\n",
      "STOP: TOTAL NO. of ITERATIONS REACHED LIMIT.\n",
      "\n",
      "Increase the number of iterations (max_iter) or scale the data as shown in:\n",
      "    https://scikit-learn.org/stable/modules/preprocessing.html\n",
      "Please also refer to the documentation for alternative solver options:\n",
      "    https://scikit-learn.org/stable/modules/linear_model.html#logistic-regression\n",
      "  n_iter_i = _check_optimize_result(\n"
     ]
    },
    {
     "name": "stdout",
     "output_type": "stream",
     "text": [
      "############################################################\n",
      "################## KNeighbors Classifier ###################\n",
      "############################################################\n",
      "+++++ Best parameters for the KNeighbors Classifier model: {'metric': 'euclidean', 'n_neighbors': 50, 'weights': 'distance'}\n",
      "+++++ Creating and fitting the KNeighbors Classifier model using its best parameters...\n",
      "############################################################\n",
      "################## Support Vector Machine ##################\n",
      "############################################################\n"
     ]
    },
    {
     "name": "stderr",
     "output_type": "stream",
     "text": [
      "/Users/sergani/Library/Python/3.9/lib/python/site-packages/sklearn/model_selection/_validation.py:776: UserWarning: Scoring failed. The score on this train-test partition for these parameters will be set to 0. Details: \n",
      "Traceback (most recent call last):\n",
      "  File \"/Users/sergani/Library/Python/3.9/lib/python/site-packages/sklearn/model_selection/_validation.py\", line 767, in _score\n",
      "    scores = scorer(estimator, X_test, y_test)\n",
      "  File \"/Users/sergani/Library/Python/3.9/lib/python/site-packages/sklearn/metrics/_scorer.py\", line 219, in __call__\n",
      "    return self._score(\n",
      "  File \"/Users/sergani/Library/Python/3.9/lib/python/site-packages/sklearn/metrics/_scorer.py\", line 261, in _score\n",
      "    y_pred = method_caller(estimator, \"predict\", X)\n",
      "  File \"/Users/sergani/Library/Python/3.9/lib/python/site-packages/sklearn/metrics/_scorer.py\", line 71, in _cached_call\n",
      "    return getattr(estimator, method)(*args, **kwargs)\n",
      "  File \"/Users/sergani/Library/Python/3.9/lib/python/site-packages/sklearn/neighbors/_classification.py\", line 226, in predict\n",
      "    neigh_ind = self.kneighbors(X, return_distance=False)\n",
      "  File \"/Users/sergani/Library/Python/3.9/lib/python/site-packages/sklearn/neighbors/_base.py\", line 749, in kneighbors\n",
      "    raise ValueError(\n",
      "ValueError: Expected n_neighbors <= n_samples,  but n_samples = 356, n_neighbors = 500\n",
      "\n",
      "  warnings.warn(\n",
      "/Users/sergani/Library/Python/3.9/lib/python/site-packages/sklearn/model_selection/_validation.py:776: UserWarning: Scoring failed. The score on this train-test partition for these parameters will be set to 0. Details: \n",
      "Traceback (most recent call last):\n",
      "  File \"/Users/sergani/Library/Python/3.9/lib/python/site-packages/sklearn/model_selection/_validation.py\", line 767, in _score\n",
      "    scores = scorer(estimator, X_test, y_test)\n",
      "  File \"/Users/sergani/Library/Python/3.9/lib/python/site-packages/sklearn/metrics/_scorer.py\", line 219, in __call__\n",
      "    return self._score(\n",
      "  File \"/Users/sergani/Library/Python/3.9/lib/python/site-packages/sklearn/metrics/_scorer.py\", line 261, in _score\n",
      "    y_pred = method_caller(estimator, \"predict\", X)\n",
      "  File \"/Users/sergani/Library/Python/3.9/lib/python/site-packages/sklearn/metrics/_scorer.py\", line 71, in _cached_call\n",
      "    return getattr(estimator, method)(*args, **kwargs)\n",
      "  File \"/Users/sergani/Library/Python/3.9/lib/python/site-packages/sklearn/neighbors/_classification.py\", line 226, in predict\n",
      "    neigh_ind = self.kneighbors(X, return_distance=False)\n",
      "  File \"/Users/sergani/Library/Python/3.9/lib/python/site-packages/sklearn/neighbors/_base.py\", line 749, in kneighbors\n",
      "    raise ValueError(\n",
      "ValueError: Expected n_neighbors <= n_samples,  but n_samples = 356, n_neighbors = 500\n",
      "\n",
      "  warnings.warn(\n",
      "/Users/sergani/Library/Python/3.9/lib/python/site-packages/sklearn/model_selection/_validation.py:776: UserWarning: Scoring failed. The score on this train-test partition for these parameters will be set to 0. Details: \n",
      "Traceback (most recent call last):\n",
      "  File \"/Users/sergani/Library/Python/3.9/lib/python/site-packages/sklearn/model_selection/_validation.py\", line 767, in _score\n",
      "    scores = scorer(estimator, X_test, y_test)\n",
      "  File \"/Users/sergani/Library/Python/3.9/lib/python/site-packages/sklearn/metrics/_scorer.py\", line 219, in __call__\n",
      "    return self._score(\n",
      "  File \"/Users/sergani/Library/Python/3.9/lib/python/site-packages/sklearn/metrics/_scorer.py\", line 261, in _score\n",
      "    y_pred = method_caller(estimator, \"predict\", X)\n",
      "  File \"/Users/sergani/Library/Python/3.9/lib/python/site-packages/sklearn/metrics/_scorer.py\", line 71, in _cached_call\n",
      "    return getattr(estimator, method)(*args, **kwargs)\n",
      "  File \"/Users/sergani/Library/Python/3.9/lib/python/site-packages/sklearn/neighbors/_classification.py\", line 229, in predict\n",
      "    neigh_dist, neigh_ind = self.kneighbors(X)\n",
      "  File \"/Users/sergani/Library/Python/3.9/lib/python/site-packages/sklearn/neighbors/_base.py\", line 749, in kneighbors\n",
      "    raise ValueError(\n",
      "ValueError: Expected n_neighbors <= n_samples,  but n_samples = 356, n_neighbors = 500\n",
      "\n",
      "  warnings.warn(\n",
      "/Users/sergani/Library/Python/3.9/lib/python/site-packages/sklearn/model_selection/_validation.py:776: UserWarning: Scoring failed. The score on this train-test partition for these parameters will be set to 0. Details: \n",
      "Traceback (most recent call last):\n",
      "  File \"/Users/sergani/Library/Python/3.9/lib/python/site-packages/sklearn/model_selection/_validation.py\", line 767, in _score\n",
      "    scores = scorer(estimator, X_test, y_test)\n",
      "  File \"/Users/sergani/Library/Python/3.9/lib/python/site-packages/sklearn/metrics/_scorer.py\", line 219, in __call__\n",
      "    return self._score(\n",
      "  File \"/Users/sergani/Library/Python/3.9/lib/python/site-packages/sklearn/metrics/_scorer.py\", line 261, in _score\n",
      "    y_pred = method_caller(estimator, \"predict\", X)\n",
      "  File \"/Users/sergani/Library/Python/3.9/lib/python/site-packages/sklearn/metrics/_scorer.py\", line 71, in _cached_call\n",
      "    return getattr(estimator, method)(*args, **kwargs)\n",
      "  File \"/Users/sergani/Library/Python/3.9/lib/python/site-packages/sklearn/neighbors/_classification.py\", line 226, in predict\n",
      "    neigh_ind = self.kneighbors(X, return_distance=False)\n",
      "  File \"/Users/sergani/Library/Python/3.9/lib/python/site-packages/sklearn/neighbors/_base.py\", line 749, in kneighbors\n",
      "    raise ValueError(\n",
      "ValueError: Expected n_neighbors <= n_samples,  but n_samples = 356, n_neighbors = 500\n",
      "\n",
      "  warnings.warn(\n",
      "/Users/sergani/Library/Python/3.9/lib/python/site-packages/sklearn/model_selection/_validation.py:776: UserWarning: Scoring failed. The score on this train-test partition for these parameters will be set to 0. Details: \n",
      "Traceback (most recent call last):\n",
      "  File \"/Users/sergani/Library/Python/3.9/lib/python/site-packages/sklearn/model_selection/_validation.py\", line 767, in _score\n",
      "    scores = scorer(estimator, X_test, y_test)\n",
      "  File \"/Users/sergani/Library/Python/3.9/lib/python/site-packages/sklearn/metrics/_scorer.py\", line 219, in __call__\n",
      "    return self._score(\n",
      "  File \"/Users/sergani/Library/Python/3.9/lib/python/site-packages/sklearn/metrics/_scorer.py\", line 261, in _score\n",
      "    y_pred = method_caller(estimator, \"predict\", X)\n",
      "  File \"/Users/sergani/Library/Python/3.9/lib/python/site-packages/sklearn/metrics/_scorer.py\", line 71, in _cached_call\n",
      "    return getattr(estimator, method)(*args, **kwargs)\n",
      "  File \"/Users/sergani/Library/Python/3.9/lib/python/site-packages/sklearn/neighbors/_classification.py\", line 229, in predict\n",
      "    neigh_dist, neigh_ind = self.kneighbors(X)\n",
      "  File \"/Users/sergani/Library/Python/3.9/lib/python/site-packages/sklearn/neighbors/_base.py\", line 749, in kneighbors\n",
      "    raise ValueError(\n",
      "ValueError: Expected n_neighbors <= n_samples,  but n_samples = 356, n_neighbors = 500\n",
      "\n",
      "  warnings.warn(\n",
      "/Users/sergani/Library/Python/3.9/lib/python/site-packages/sklearn/model_selection/_validation.py:776: UserWarning: Scoring failed. The score on this train-test partition for these parameters will be set to 0. Details: \n",
      "Traceback (most recent call last):\n",
      "  File \"/Users/sergani/Library/Python/3.9/lib/python/site-packages/sklearn/model_selection/_validation.py\", line 767, in _score\n",
      "    scores = scorer(estimator, X_test, y_test)\n",
      "  File \"/Users/sergani/Library/Python/3.9/lib/python/site-packages/sklearn/metrics/_scorer.py\", line 219, in __call__\n",
      "    return self._score(\n",
      "  File \"/Users/sergani/Library/Python/3.9/lib/python/site-packages/sklearn/metrics/_scorer.py\", line 261, in _score\n",
      "    y_pred = method_caller(estimator, \"predict\", X)\n",
      "  File \"/Users/sergani/Library/Python/3.9/lib/python/site-packages/sklearn/metrics/_scorer.py\", line 71, in _cached_call\n",
      "    return getattr(estimator, method)(*args, **kwargs)\n",
      "  File \"/Users/sergani/Library/Python/3.9/lib/python/site-packages/sklearn/neighbors/_classification.py\", line 226, in predict\n",
      "    neigh_ind = self.kneighbors(X, return_distance=False)\n",
      "  File \"/Users/sergani/Library/Python/3.9/lib/python/site-packages/sklearn/neighbors/_base.py\", line 749, in kneighbors\n",
      "    raise ValueError(\n",
      "ValueError: Expected n_neighbors <= n_samples,  but n_samples = 356, n_neighbors = 500\n",
      "\n",
      "  warnings.warn(\n",
      "/Users/sergani/Library/Python/3.9/lib/python/site-packages/sklearn/model_selection/_validation.py:776: UserWarning: Scoring failed. The score on this train-test partition for these parameters will be set to 0. Details: \n",
      "Traceback (most recent call last):\n",
      "  File \"/Users/sergani/Library/Python/3.9/lib/python/site-packages/sklearn/model_selection/_validation.py\", line 767, in _score\n",
      "    scores = scorer(estimator, X_test, y_test)\n",
      "  File \"/Users/sergani/Library/Python/3.9/lib/python/site-packages/sklearn/metrics/_scorer.py\", line 219, in __call__\n",
      "    return self._score(\n",
      "  File \"/Users/sergani/Library/Python/3.9/lib/python/site-packages/sklearn/metrics/_scorer.py\", line 261, in _score\n",
      "    y_pred = method_caller(estimator, \"predict\", X)\n",
      "  File \"/Users/sergani/Library/Python/3.9/lib/python/site-packages/sklearn/metrics/_scorer.py\", line 71, in _cached_call\n",
      "    return getattr(estimator, method)(*args, **kwargs)\n",
      "  File \"/Users/sergani/Library/Python/3.9/lib/python/site-packages/sklearn/neighbors/_classification.py\", line 229, in predict\n",
      "    neigh_dist, neigh_ind = self.kneighbors(X)\n",
      "  File \"/Users/sergani/Library/Python/3.9/lib/python/site-packages/sklearn/neighbors/_base.py\", line 749, in kneighbors\n",
      "    raise ValueError(\n",
      "ValueError: Expected n_neighbors <= n_samples,  but n_samples = 356, n_neighbors = 500\n",
      "\n",
      "  warnings.warn(\n",
      "/Users/sergani/Library/Python/3.9/lib/python/site-packages/sklearn/model_selection/_validation.py:776: UserWarning: Scoring failed. The score on this train-test partition for these parameters will be set to 0. Details: \n",
      "Traceback (most recent call last):\n",
      "  File \"/Users/sergani/Library/Python/3.9/lib/python/site-packages/sklearn/model_selection/_validation.py\", line 767, in _score\n",
      "    scores = scorer(estimator, X_test, y_test)\n",
      "  File \"/Users/sergani/Library/Python/3.9/lib/python/site-packages/sklearn/metrics/_scorer.py\", line 219, in __call__\n",
      "    return self._score(\n",
      "  File \"/Users/sergani/Library/Python/3.9/lib/python/site-packages/sklearn/metrics/_scorer.py\", line 261, in _score\n",
      "    y_pred = method_caller(estimator, \"predict\", X)\n",
      "  File \"/Users/sergani/Library/Python/3.9/lib/python/site-packages/sklearn/metrics/_scorer.py\", line 71, in _cached_call\n",
      "    return getattr(estimator, method)(*args, **kwargs)\n",
      "  File \"/Users/sergani/Library/Python/3.9/lib/python/site-packages/sklearn/neighbors/_classification.py\", line 229, in predict\n",
      "    neigh_dist, neigh_ind = self.kneighbors(X)\n",
      "  File \"/Users/sergani/Library/Python/3.9/lib/python/site-packages/sklearn/neighbors/_base.py\", line 749, in kneighbors\n",
      "    raise ValueError(\n",
      "ValueError: Expected n_neighbors <= n_samples,  but n_samples = 356, n_neighbors = 500\n",
      "\n",
      "  warnings.warn(\n",
      "/Users/sergani/Library/Python/3.9/lib/python/site-packages/sklearn/model_selection/_validation.py:776: UserWarning: Scoring failed. The score on this train-test partition for these parameters will be set to 0. Details: \n",
      "Traceback (most recent call last):\n",
      "  File \"/Users/sergani/Library/Python/3.9/lib/python/site-packages/sklearn/model_selection/_validation.py\", line 767, in _score\n",
      "    scores = scorer(estimator, X_test, y_test)\n",
      "  File \"/Users/sergani/Library/Python/3.9/lib/python/site-packages/sklearn/metrics/_scorer.py\", line 219, in __call__\n",
      "    return self._score(\n",
      "  File \"/Users/sergani/Library/Python/3.9/lib/python/site-packages/sklearn/metrics/_scorer.py\", line 261, in _score\n",
      "    y_pred = method_caller(estimator, \"predict\", X)\n",
      "  File \"/Users/sergani/Library/Python/3.9/lib/python/site-packages/sklearn/metrics/_scorer.py\", line 71, in _cached_call\n",
      "    return getattr(estimator, method)(*args, **kwargs)\n",
      "  File \"/Users/sergani/Library/Python/3.9/lib/python/site-packages/sklearn/neighbors/_classification.py\", line 226, in predict\n",
      "    neigh_ind = self.kneighbors(X, return_distance=False)\n",
      "  File \"/Users/sergani/Library/Python/3.9/lib/python/site-packages/sklearn/neighbors/_base.py\", line 749, in kneighbors\n",
      "    raise ValueError(\n",
      "ValueError: Expected n_neighbors <= n_samples,  but n_samples = 356, n_neighbors = 500\n",
      "\n",
      "  warnings.warn(\n",
      "/Users/sergani/Library/Python/3.9/lib/python/site-packages/sklearn/model_selection/_validation.py:776: UserWarning: Scoring failed. The score on this train-test partition for these parameters will be set to 0. Details: \n",
      "Traceback (most recent call last):\n",
      "  File \"/Users/sergani/Library/Python/3.9/lib/python/site-packages/sklearn/model_selection/_validation.py\", line 767, in _score\n",
      "    scores = scorer(estimator, X_test, y_test)\n",
      "  File \"/Users/sergani/Library/Python/3.9/lib/python/site-packages/sklearn/metrics/_scorer.py\", line 219, in __call__\n",
      "    return self._score(\n",
      "  File \"/Users/sergani/Library/Python/3.9/lib/python/site-packages/sklearn/metrics/_scorer.py\", line 261, in _score\n",
      "    y_pred = method_caller(estimator, \"predict\", X)\n",
      "  File \"/Users/sergani/Library/Python/3.9/lib/python/site-packages/sklearn/metrics/_scorer.py\", line 71, in _cached_call\n",
      "    return getattr(estimator, method)(*args, **kwargs)\n",
      "  File \"/Users/sergani/Library/Python/3.9/lib/python/site-packages/sklearn/neighbors/_classification.py\", line 226, in predict\n",
      "    neigh_ind = self.kneighbors(X, return_distance=False)\n",
      "  File \"/Users/sergani/Library/Python/3.9/lib/python/site-packages/sklearn/neighbors/_base.py\", line 749, in kneighbors\n",
      "    raise ValueError(\n",
      "ValueError: Expected n_neighbors <= n_samples,  but n_samples = 356, n_neighbors = 500\n",
      "\n",
      "  warnings.warn(\n",
      "/Users/sergani/Library/Python/3.9/lib/python/site-packages/sklearn/model_selection/_validation.py:776: UserWarning: Scoring failed. The score on this train-test partition for these parameters will be set to 0. Details: \n",
      "Traceback (most recent call last):\n",
      "  File \"/Users/sergani/Library/Python/3.9/lib/python/site-packages/sklearn/model_selection/_validation.py\", line 767, in _score\n",
      "    scores = scorer(estimator, X_test, y_test)\n",
      "  File \"/Users/sergani/Library/Python/3.9/lib/python/site-packages/sklearn/metrics/_scorer.py\", line 219, in __call__\n",
      "    return self._score(\n",
      "  File \"/Users/sergani/Library/Python/3.9/lib/python/site-packages/sklearn/metrics/_scorer.py\", line 261, in _score\n",
      "    y_pred = method_caller(estimator, \"predict\", X)\n",
      "  File \"/Users/sergani/Library/Python/3.9/lib/python/site-packages/sklearn/metrics/_scorer.py\", line 71, in _cached_call\n",
      "    return getattr(estimator, method)(*args, **kwargs)\n",
      "  File \"/Users/sergani/Library/Python/3.9/lib/python/site-packages/sklearn/neighbors/_classification.py\", line 229, in predict\n",
      "    neigh_dist, neigh_ind = self.kneighbors(X)\n",
      "  File \"/Users/sergani/Library/Python/3.9/lib/python/site-packages/sklearn/neighbors/_base.py\", line 749, in kneighbors\n",
      "    raise ValueError(\n",
      "ValueError: Expected n_neighbors <= n_samples,  but n_samples = 356, n_neighbors = 500\n",
      "\n",
      "  warnings.warn(\n",
      "/Users/sergani/Library/Python/3.9/lib/python/site-packages/sklearn/model_selection/_validation.py:776: UserWarning: Scoring failed. The score on this train-test partition for these parameters will be set to 0. Details: \n",
      "Traceback (most recent call last):\n",
      "  File \"/Users/sergani/Library/Python/3.9/lib/python/site-packages/sklearn/model_selection/_validation.py\", line 767, in _score\n",
      "    scores = scorer(estimator, X_test, y_test)\n",
      "  File \"/Users/sergani/Library/Python/3.9/lib/python/site-packages/sklearn/metrics/_scorer.py\", line 219, in __call__\n",
      "    return self._score(\n",
      "  File \"/Users/sergani/Library/Python/3.9/lib/python/site-packages/sklearn/metrics/_scorer.py\", line 261, in _score\n",
      "    y_pred = method_caller(estimator, \"predict\", X)\n",
      "  File \"/Users/sergani/Library/Python/3.9/lib/python/site-packages/sklearn/metrics/_scorer.py\", line 71, in _cached_call\n",
      "    return getattr(estimator, method)(*args, **kwargs)\n",
      "  File \"/Users/sergani/Library/Python/3.9/lib/python/site-packages/sklearn/neighbors/_classification.py\", line 229, in predict\n",
      "    neigh_dist, neigh_ind = self.kneighbors(X)\n",
      "  File \"/Users/sergani/Library/Python/3.9/lib/python/site-packages/sklearn/neighbors/_base.py\", line 749, in kneighbors\n",
      "    raise ValueError(\n",
      "ValueError: Expected n_neighbors <= n_samples,  but n_samples = 356, n_neighbors = 500\n",
      "\n",
      "  warnings.warn(\n"
     ]
    },
    {
     "name": "stdout",
     "output_type": "stream",
     "text": [
      "+++++ Best parameters for the Support Vector Machine model: {'C': 50, 'gamma': 'scale', 'kernel': 'poly'}\n",
      "+++++ Creating and fitting the Support Vector Machine model using its best parameters...\n",
      "############################################################\n",
      "################# Decision Tree Classifier #################\n",
      "############################################################\n",
      "+++++ Best parameters for the Decision Tree Classifier model: {'criterion': 'entropy', 'max_features': 'sqrt', 'splitter': 'best'}\n",
      "+++++ Creating and fitting the Decision Tree Classifier model using its best parameters...\n",
      "############################################################\n",
      "################# Random Forest Classifier #################\n",
      "############################################################\n",
      "+++++ Best parameters for the Random Forest Classifier model: {'max_features': 'sqrt', 'n_estimators': 1000}\n",
      "+++++ Creating and fitting the Random Forest Classifier model using its best parameters...\n",
      "############################################################\n",
      "#################### Voting Classifier #####################\n",
      "############################################################\n",
      "+++++ Best parameters for the Voting Classifier model: None\n",
      "+++++ Creating and fitting the Voting Classifier model using its best parameters...\n",
      "############################################################\n",
      "###################### XGB Classifier ######################\n",
      "############################################################\n",
      "+++++ Best parameters for the XGB Classifier model: None\n",
      "+++++ Creating and fitting the XGB Classifier model using its best parameters...\n",
      "############################################################\n",
      "####################### Naive Bayes ########################\n",
      "############################################################\n",
      "+++++ Best parameters for the Naive Bayes model: None\n",
      "+++++ Creating and fitting the Naive Bayes model using its best parameters...\n",
      "############################################################\n",
      "####### All models created and fitted successfully! ########\n",
      "############################################################\n"
     ]
    },
    {
     "name": "stderr",
     "output_type": "stream",
     "text": [
      "/Users/sergani/Library/Python/3.9/lib/python/site-packages/xgboost/sklearn.py:1421: UserWarning: `use_label_encoder` is deprecated in 1.7.0.\n",
      "  warnings.warn(\"`use_label_encoder` is deprecated in 1.7.0.\")\n"
     ]
    },
    {
     "name": "stdout",
     "output_type": "stream",
     "text": [
      "############################################################\n",
      "############ All y_preds created successfully! #############\n",
      "############################################################\n",
      "############################################################\n",
      "######### All y_pred_probas created successfully! ##########\n",
      "############################################################\n"
     ]
    }
   ],
   "source": [
    "cm = ClassifierModels(df_fs[list(features)], x_train, y_train, x_test, y_test)"
   ]
  },
  {
   "cell_type": "markdown",
   "metadata": {},
   "source": [
    "## Model Performance"
   ]
  },
  {
   "cell_type": "code",
   "execution_count": 58,
   "metadata": {
    "execution": {
     "iopub.execute_input": "2022-11-19T21:27:20.243141Z",
     "iopub.status.busy": "2022-11-19T21:27:20.242759Z",
     "iopub.status.idle": "2022-11-19T21:27:20.571769Z",
     "shell.execute_reply": "2022-11-19T21:27:20.571150Z",
     "shell.execute_reply.started": "2022-11-19T21:27:20.243107Z"
    },
    "tags": []
   },
   "outputs": [
    {
     "name": "stdout",
     "output_type": "stream",
     "text": [
      "Performance of the different models:\n",
      "+--------------------------+--------------------+--------------------+--------------------+--------------------+\n",
      "|                          |      Accuracy      |     Precision      |       Recall       |      F1 Score      |\n",
      "+--------------------------+--------------------+--------------------+--------------------+--------------------+\n",
      "|   Logistic Regression    | 0.8044692737430168 | 0.8050345226502267 | 0.8044692737430168 | 0.804726204495958  |\n",
      "|  KNeighbors Classifier   | 0.6759776536312849 | 0.6763478201575156 | 0.6759776536312849 | 0.6382755186003205 |\n",
      "|  Support Vector Machine  | 0.7318435754189944 | 0.7479360645561763 | 0.7318435754189944 | 0.7059577909443744 |\n",
      "| Decision Tree Classifier | 0.8100558659217877 | 0.8086234063887696 | 0.8100558659217877 | 0.808916808614549  |\n",
      "| Random Forest Classifier | 0.8547486033519553 | 0.8545933771174798 | 0.8547486033519553 | 0.8528275997255709 |\n",
      "|    Voting Classifier     | 0.8435754189944135 | 0.8468667573190911 | 0.8435754189944135 | 0.8394243669067961 |\n",
      "|      XGB Classifier      | 0.8547486033519553 | 0.8539072218578246 | 0.8547486033519553 | 0.8538775595287726 |\n",
      "|       Naive Bayes        | 0.8268156424581006 | 0.8263885804963689 | 0.8268156424581006 | 0.8265754025724856 |\n",
      "+--------------------------+--------------------+--------------------+--------------------+--------------------+\n"
     ]
    }
   ],
   "source": [
    "print('Performance of the different models:\\n', cm.show_performance(), sep='')"
   ]
  },
  {
   "cell_type": "markdown",
   "metadata": {},
   "source": [
    "### ROC"
   ]
  },
  {
   "cell_type": "code",
   "execution_count": 59,
   "metadata": {
    "execution": {
     "iopub.execute_input": "2022-11-19T21:27:20.573113Z",
     "iopub.status.busy": "2022-11-19T21:27:20.572637Z",
     "iopub.status.idle": "2022-11-19T21:27:20.815985Z",
     "shell.execute_reply": "2022-11-19T21:27:20.815310Z",
     "shell.execute_reply.started": "2022-11-19T21:27:20.573091Z"
    },
    "tags": []
   },
   "outputs": [
    {
     "data": {
      "text/plain": [
       "Text(0.5, 1.0, 'ROC Curves for Models')"
      ]
     },
     "execution_count": 59,
     "metadata": {},
     "output_type": "execute_result"
    },
    {
     "data": {
      "image/png": "[encoded data removed]",
      "text/plain": [
       "<Figure size 800x1000 with 1 Axes>"
      ]
     },
     "metadata": {},
     "output_type": "display_data"
    }
   ],
   "source": [
    "# collect the ROC results\n",
    "roc_results = {}\n",
    "\n",
    "for model in cm.model_abr:\n",
    "    fpr, tpr, thresholds = roc_curve(\n",
    "        cm.y_test, cm.model_predicts_proba[model][:, 1])\n",
    "\n",
    "    roc_results[model] = [fpr, tpr, thresholds]\n",
    "\n",
    "# graph the ROC of all of the models\n",
    "fig, ax0 = plt.subplots()\n",
    "\n",
    "ax0.plot([0, 1], [0, 1], 'k--')\n",
    "for model in roc_results:\n",
    "    ax0.plot(roc_results[model][0],\n",
    "             roc_results[model][1], c=np.random.rand(3,), label=cm.model_abr[model])\n",
    "ax0.set_xlabel('False Positive Rate')\n",
    "ax0.set_ylabel('True Positive Rate')\n",
    "\n",
    "ax0.legend()\n",
    "ax0.set_title('ROC Curves for Models')"
   ]
  },
  {
   "cell_type": "markdown",
   "metadata": {},
   "source": [
    "### AUC"
   ]
  },
  {
   "cell_type": "code",
   "execution_count": 60,
   "metadata": {
    "execution": {
     "iopub.execute_input": "2022-11-19T21:27:20.817833Z",
     "iopub.status.busy": "2022-11-19T21:27:20.817273Z",
     "iopub.status.idle": "2022-11-19T21:27:20.901010Z",
     "shell.execute_reply": "2022-11-19T21:27:20.900248Z",
     "shell.execute_reply.started": "2022-11-19T21:27:20.817813Z"
    },
    "tags": []
   },
   "outputs": [
    {
     "name": "stdout",
     "output_type": "stream",
     "text": [
      "+--------------------------+--------------------+\n",
      "|                          |        AUC         |\n",
      "+--------------------------+--------------------+\n",
      "|   Logistic Regression    | 0.8744400527009224 |\n",
      "|  KNeighbors Classifier   | 0.6936758893280632 |\n",
      "|  Support Vector Machine  | 0.7159420289855073 |\n",
      "| Decision Tree Classifier | 0.7941370223978921 |\n",
      "| Random Forest Classifier | 0.9152832674571806 |\n",
      "|    Voting Classifier     | 0.9122529644268775 |\n",
      "|      XGB Classifier      | 0.8956521739130435 |\n",
      "|       Naive Bayes        | 0.8669301712779973 |\n",
      "+--------------------------+--------------------+\n"
     ]
    }
   ],
   "source": [
    "# table headers and a dictionary to hold the values\n",
    "headers = ['AUC']\n",
    "tbl_data_dict = {}\n",
    "\n",
    "# loop over the classifier models and then their keys abbreviated keys\n",
    "for k in cm.model_abr:\n",
    "    auc = roc_auc_score(cm.y_test, cm.model_predicts_proba[k][:, 1])\n",
    "    tbl_data_dict.setdefault(cm.model_abr[k], []).append(auc)\n",
    "\n",
    "# create the table data from the dictionary created above\n",
    "# tabulate doesn't take table data in the form of dictionary created above\n",
    "tbldata = []\n",
    "for k, v in tbl_data_dict.items():\n",
    "    tbldata.append([k] + v)\n",
    "\n",
    "print(tabulate(tbldata, headers=headers, tablefmt='pretty'))\n"
   ]
  },
  {
   "cell_type": "markdown",
   "metadata": {},
   "source": [
    "# Deep Learning"
   ]
  },
  {
   "cell_type": "code",
   "execution_count": 61,
   "metadata": {
    "execution": {
     "iopub.execute_input": "2022-11-19T21:35:12.105972Z",
     "iopub.status.busy": "2022-11-19T21:35:12.105592Z",
     "iopub.status.idle": "2022-11-19T21:35:12.113066Z",
     "shell.execute_reply": "2022-11-19T21:35:12.112541Z",
     "shell.execute_reply.started": "2022-11-19T21:35:12.105949Z"
    }
   },
   "outputs": [
    {
     "name": "stdout",
     "output_type": "stream",
     "text": [
      "The tensorboard extension is already loaded. To reload it, use:\n",
      "  %reload_ext tensorboard\n"
     ]
    }
   ],
   "source": [
    "%load_ext tensorboard\n",
    "\n",
    "# create folders\n",
    "now = datetime.now().strftime('%Y%m%d%H%M')\n",
    "# log_folder = f'/tmp/keras_logs_{today}'\n",
    "log_folder = f'Tensorboard Logs/Classification - Titanic Survivors {now}'\n",
    "\n",
    "# callbacks for TensorBoard\n",
    "callbacks = TensorBoard(log_dir=log_folder, histogram_freq=1)"
   ]
  },
  {
   "cell_type": "code",
   "execution_count": 62,
   "metadata": {
    "execution": {
     "iopub.execute_input": "2022-11-19T21:36:38.963024Z",
     "iopub.status.busy": "2022-11-19T21:36:38.962646Z",
     "iopub.status.idle": "2022-11-19T21:36:38.989173Z",
     "shell.execute_reply": "2022-11-19T21:36:38.988388Z",
     "shell.execute_reply.started": "2022-11-19T21:36:38.963002Z"
    },
    "tags": []
   },
   "outputs": [
    {
     "name": "stdout",
     "output_type": "stream",
     "text": [
      "['Name', 'Sex', 'Ticket', 'Cabin', 'Embarked']\n"
     ]
    }
   ],
   "source": [
    "# create a new dataframe copy and encode its categorical columns\n",
    "df_dl = df.copy(deep=True)\n",
    "\n",
    "cat_cols = [col for col in df_dl.columns if df_dl[col].dtype == 'object']\n",
    "print(cat_cols)\n",
    "oe = OrdinalEncoder()\n",
    "df_dl[cat_cols] = oe.fit_transform(df_dl[cat_cols])\n",
    "\n",
    "# x and y\n",
    "x_dl = df_dl.drop('Survived', axis=1).values\n",
    "y_dl = df_dl['Survived'].values\n",
    "\n",
    "# # categorical encoded columns + selected features only\n",
    "# x = df[list(features)]\n",
    "# y = df['Class']\n"
   ]
  },
  {
   "cell_type": "code",
   "execution_count": 63,
   "metadata": {
    "execution": {
     "iopub.execute_input": "2022-11-19T21:36:43.111103Z",
     "iopub.status.busy": "2022-11-19T21:36:43.110727Z",
     "iopub.status.idle": "2022-11-19T21:36:43.248590Z",
     "shell.execute_reply": "2022-11-19T21:36:43.247840Z",
     "shell.execute_reply.started": "2022-11-19T21:36:43.111081Z"
    },
    "tags": []
   },
   "outputs": [
    {
     "name": "stdout",
     "output_type": "stream",
     "text": [
      "Model: \"sequential\"\n",
      "_________________________________________________________________\n",
      " Layer (type)                Output Shape              Param #   \n",
      "=================================================================\n",
      " dense (Dense)               (None, 10)                120       \n",
      "                                                                 \n",
      " dense_1 (Dense)             (None, 8)                 88        \n",
      "                                                                 \n",
      " dense_2 (Dense)             (None, 5)                 45        \n",
      "                                                                 \n",
      " dense_3 (Dense)             (None, 1)                 6         \n",
      "                                                                 \n",
      "=================================================================\n",
      "Total params: 259\n",
      "Trainable params: 259\n",
      "Non-trainable params: 0\n",
      "_________________________________________________________________\n"
     ]
    }
   ],
   "source": [
    "# clear previous sessions\n",
    "keras.backend.clear_session()\n",
    "\n",
    "# create keras model\n",
    "model = keras.models.Sequential([\n",
    "    keras.layers.Dense(10, activation='relu', input_dim=x_dl.shape[1]),\n",
    "    keras.layers.Dense(8, activation='relu'),\n",
    "    keras.layers.Dense(5, activation='relu'),\n",
    "    keras.layers.Dense(1, activation='sigmoid')  # in case of multiple classification use more perceptrons and softmax\n",
    "])\n",
    "\n",
    "model.summary()"
   ]
  },
  {
   "cell_type": "code",
   "execution_count": 64,
   "metadata": {
    "execution": {
     "iopub.execute_input": "2022-11-19T21:37:05.415815Z",
     "iopub.status.busy": "2022-11-19T21:37:05.415435Z",
     "iopub.status.idle": "2022-11-19T21:45:00.120476Z",
     "shell.execute_reply": "2022-11-19T21:45:00.119912Z",
     "shell.execute_reply.started": "2022-11-19T21:37:05.415793Z"
    },
    "tags": []
   },
   "outputs": [
    {
     "name": "stdout",
     "output_type": "stream",
     "text": [
      "Epoch 1/50\n",
      "23/23 [==============================] - 1s 20ms/step - loss: 16.8674 - auc: 0.4908 - precision: 0.2667 - recall: 0.0288 - val_loss: 2.7063 - val_auc: 0.5065 - val_precision: 0.2439 - val_recall: 0.1562\n",
      "Epoch 2/50\n",
      "23/23 [==============================] - 0s 5ms/step - loss: 3.6164 - auc: 0.4901 - precision: 0.3621 - recall: 0.3777 - val_loss: 4.0915 - val_auc: 0.5383 - val_precision: 1.0000 - val_recall: 0.0312\n",
      "Epoch 3/50\n",
      "23/23 [==============================] - 0s 5ms/step - loss: 2.6256 - auc: 0.4922 - precision: 0.3582 - recall: 0.2590 - val_loss: 2.2265 - val_auc: 0.6069 - val_precision: 0.6667 - val_recall: 0.0938\n",
      "Epoch 4/50\n",
      "23/23 [==============================] - 0s 5ms/step - loss: 1.9570 - auc: 0.5143 - precision: 0.3868 - recall: 0.2950 - val_loss: 2.1427 - val_auc: 0.6540 - val_precision: 1.0000 - val_recall: 0.1094\n",
      "Epoch 5/50\n",
      "23/23 [==============================] - 0s 5ms/step - loss: 1.5180 - auc: 0.5439 - precision: 0.4238 - recall: 0.3201 - val_loss: 1.4209 - val_auc: 0.6512 - val_precision: 0.8261 - val_recall: 0.2969\n",
      "Epoch 6/50\n",
      "23/23 [==============================] - 0s 5ms/step - loss: 1.2273 - auc: 0.5600 - precision: 0.4605 - recall: 0.3777 - val_loss: 1.1498 - val_auc: 0.6544 - val_precision: 0.5870 - val_recall: 0.4219\n",
      "Epoch 7/50\n",
      "23/23 [==============================] - 0s 5ms/step - loss: 1.0983 - auc: 0.5643 - precision: 0.4549 - recall: 0.3993 - val_loss: 1.3094 - val_auc: 0.6512 - val_precision: 0.7586 - val_recall: 0.3438\n",
      "Epoch 8/50\n",
      "23/23 [==============================] - 0s 5ms/step - loss: 0.9729 - auc: 0.5790 - precision: 0.5000 - recall: 0.4281 - val_loss: 1.1244 - val_auc: 0.6533 - val_precision: 0.5870 - val_recall: 0.4219\n",
      "Epoch 9/50\n",
      "23/23 [==============================] - 0s 5ms/step - loss: 0.8844 - auc: 0.5903 - precision: 0.4694 - recall: 0.4137 - val_loss: 1.3686 - val_auc: 0.6568 - val_precision: 0.7391 - val_recall: 0.2656\n",
      "Epoch 10/50\n",
      "23/23 [==============================] - 0s 5ms/step - loss: 0.8304 - auc: 0.5833 - precision: 0.4856 - recall: 0.3633 - val_loss: 1.0026 - val_auc: 0.6529 - val_precision: 0.5357 - val_recall: 0.4688\n",
      "Epoch 11/50\n",
      "23/23 [==============================] - 0s 5ms/step - loss: 0.7648 - auc: 0.6102 - precision: 0.5459 - recall: 0.3633 - val_loss: 1.1132 - val_auc: 0.6458 - val_precision: 0.4286 - val_recall: 0.6094\n",
      "Epoch 12/50\n",
      "23/23 [==============================] - 0s 5ms/step - loss: 0.9482 - auc: 0.5622 - precision: 0.4313 - recall: 0.4065 - val_loss: 0.8950 - val_auc: 0.6438 - val_precision: 0.5536 - val_recall: 0.4844\n",
      "Epoch 13/50\n",
      "23/23 [==============================] - 0s 5ms/step - loss: 0.7216 - auc: 0.6150 - precision: 0.5278 - recall: 0.4101 - val_loss: 0.8762 - val_auc: 0.6397 - val_precision: 0.6429 - val_recall: 0.4219\n",
      "Epoch 14/50\n",
      "23/23 [==============================] - 0s 5ms/step - loss: 0.6880 - auc: 0.6297 - precision: 0.5856 - recall: 0.3813 - val_loss: 0.8942 - val_auc: 0.6372 - val_precision: 0.4677 - val_recall: 0.4531\n",
      "Epoch 15/50\n",
      "23/23 [==============================] - 0s 5ms/step - loss: 0.6956 - auc: 0.6367 - precision: 0.5405 - recall: 0.3597 - val_loss: 0.8736 - val_auc: 0.6339 - val_precision: 0.4231 - val_recall: 0.5156\n",
      "Epoch 16/50\n",
      "23/23 [==============================] - 0s 4ms/step - loss: 0.7015 - auc: 0.6337 - precision: 0.5350 - recall: 0.3849 - val_loss: 0.8554 - val_auc: 0.6357 - val_precision: 0.4769 - val_recall: 0.4844\n",
      "Epoch 17/50\n",
      "23/23 [==============================] - 0s 5ms/step - loss: 0.6625 - auc: 0.6543 - precision: 0.6056 - recall: 0.3921 - val_loss: 0.8439 - val_auc: 0.6332 - val_precision: 0.4507 - val_recall: 0.5000\n",
      "Epoch 18/50\n",
      "23/23 [==============================] - 0s 4ms/step - loss: 0.6622 - auc: 0.6544 - precision: 0.5767 - recall: 0.3921 - val_loss: 0.8145 - val_auc: 0.6324 - val_precision: 0.5435 - val_recall: 0.3906\n",
      "Epoch 19/50\n",
      "23/23 [==============================] - 0s 5ms/step - loss: 0.6749 - auc: 0.6411 - precision: 0.5659 - recall: 0.3705 - val_loss: 0.8191 - val_auc: 0.6390 - val_precision: 0.4769 - val_recall: 0.4844\n",
      "Epoch 20/50\n",
      "23/23 [==============================] - 0s 5ms/step - loss: 0.6536 - auc: 0.6547 - precision: 0.5931 - recall: 0.4353 - val_loss: 0.8930 - val_auc: 0.6406 - val_precision: 0.6333 - val_recall: 0.2969\n",
      "Epoch 21/50\n",
      "23/23 [==============================] - 0s 5ms/step - loss: 0.7171 - auc: 0.6374 - precision: 0.5294 - recall: 0.3885 - val_loss: 0.7961 - val_auc: 0.6416 - val_precision: 0.4925 - val_recall: 0.5156\n",
      "Epoch 22/50\n",
      "23/23 [==============================] - 0s 4ms/step - loss: 0.6335 - auc: 0.6665 - precision: 0.6045 - recall: 0.3849 - val_loss: 0.7880 - val_auc: 0.6406 - val_precision: 0.5536 - val_recall: 0.4844\n",
      "Epoch 23/50\n",
      "23/23 [==============================] - 0s 5ms/step - loss: 0.6286 - auc: 0.6879 - precision: 0.6220 - recall: 0.3669 - val_loss: 0.7635 - val_auc: 0.6459 - val_precision: 0.5357 - val_recall: 0.4688\n",
      "Epoch 24/50\n",
      "23/23 [==============================] - 0s 5ms/step - loss: 0.6455 - auc: 0.6650 - precision: 0.6316 - recall: 0.3453 - val_loss: 0.8091 - val_auc: 0.6454 - val_precision: 0.4091 - val_recall: 0.5625\n",
      "Epoch 25/50\n",
      "23/23 [==============================] - 0s 5ms/step - loss: 0.6602 - auc: 0.6532 - precision: 0.5488 - recall: 0.4245 - val_loss: 0.7462 - val_auc: 0.6469 - val_precision: 0.4714 - val_recall: 0.5156\n",
      "Epoch 26/50\n",
      "23/23 [==============================] - 0s 5ms/step - loss: 0.6509 - auc: 0.6525 - precision: 0.5904 - recall: 0.3993 - val_loss: 0.7623 - val_auc: 0.6522 - val_precision: 0.5946 - val_recall: 0.3438\n",
      "Epoch 27/50\n",
      "23/23 [==============================] - 0s 5ms/step - loss: 0.6711 - auc: 0.6506 - precision: 0.5446 - recall: 0.4388 - val_loss: 0.7674 - val_auc: 0.6541 - val_precision: 0.4578 - val_recall: 0.5938\n",
      "Epoch 28/50\n",
      "23/23 [==============================] - 0s 5ms/step - loss: 0.6319 - auc: 0.6698 - precision: 0.6271 - recall: 0.3993 - val_loss: 0.7565 - val_auc: 0.6633 - val_precision: 0.5789 - val_recall: 0.3438\n",
      "Epoch 29/50\n",
      "23/23 [==============================] - 0s 5ms/step - loss: 0.6457 - auc: 0.6695 - precision: 0.5914 - recall: 0.3957 - val_loss: 0.7231 - val_auc: 0.6627 - val_precision: 0.5614 - val_recall: 0.5000\n",
      "Epoch 30/50\n",
      "23/23 [==============================] - 0s 5ms/step - loss: 0.6254 - auc: 0.6948 - precision: 0.5977 - recall: 0.3741 - val_loss: 0.8132 - val_auc: 0.6604 - val_precision: 0.4242 - val_recall: 0.6562\n",
      "Epoch 31/50\n",
      "23/23 [==============================] - 0s 5ms/step - loss: 0.6966 - auc: 0.6554 - precision: 0.5378 - recall: 0.4856 - val_loss: 0.7230 - val_auc: 0.6645 - val_precision: 0.4750 - val_recall: 0.5938\n",
      "Epoch 32/50\n",
      "23/23 [==============================] - 0s 5ms/step - loss: 0.7294 - auc: 0.6233 - precision: 0.4959 - recall: 0.4353 - val_loss: 0.8301 - val_auc: 0.6710 - val_precision: 0.5500 - val_recall: 0.1719\n",
      "Epoch 33/50\n",
      "23/23 [==============================] - 0s 5ms/step - loss: 0.6570 - auc: 0.6741 - precision: 0.5895 - recall: 0.4029 - val_loss: 0.7439 - val_auc: 0.6658 - val_precision: 0.4382 - val_recall: 0.6094\n",
      "Epoch 34/50\n",
      "23/23 [==============================] - 0s 5ms/step - loss: 0.6166 - auc: 0.6935 - precision: 0.6290 - recall: 0.4209 - val_loss: 0.6948 - val_auc: 0.6740 - val_precision: 0.5686 - val_recall: 0.4531\n",
      "Epoch 35/50\n",
      "23/23 [==============================] - 0s 4ms/step - loss: 0.6253 - auc: 0.6749 - precision: 0.5859 - recall: 0.4173 - val_loss: 0.7057 - val_auc: 0.6770 - val_precision: 0.5789 - val_recall: 0.3438\n",
      "Epoch 36/50\n",
      "23/23 [==============================] - 0s 4ms/step - loss: 0.6133 - auc: 0.7022 - precision: 0.6709 - recall: 0.3813 - val_loss: 0.6816 - val_auc: 0.6788 - val_precision: 0.5556 - val_recall: 0.3906\n",
      "Epoch 37/50\n",
      "23/23 [==============================] - 0s 5ms/step - loss: 0.6181 - auc: 0.6870 - precision: 0.5860 - recall: 0.3921 - val_loss: 0.6950 - val_auc: 0.6781 - val_precision: 0.5231 - val_recall: 0.5312\n",
      "Epoch 38/50\n",
      "23/23 [==============================] - 0s 5ms/step - loss: 0.6487 - auc: 0.6612 - precision: 0.5619 - recall: 0.4245 - val_loss: 0.7565 - val_auc: 0.6806 - val_precision: 0.5000 - val_recall: 0.2188\n",
      "Epoch 39/50\n",
      "23/23 [==============================] - 0s 4ms/step - loss: 0.6633 - auc: 0.6680 - precision: 0.5700 - recall: 0.4101 - val_loss: 0.7583 - val_auc: 0.6819 - val_precision: 0.5833 - val_recall: 0.2188\n",
      "Epoch 40/50\n",
      "23/23 [==============================] - 0s 5ms/step - loss: 0.6997 - auc: 0.6464 - precision: 0.4953 - recall: 0.3813 - val_loss: 0.6772 - val_auc: 0.6783 - val_precision: 0.5484 - val_recall: 0.5312\n",
      "Epoch 41/50\n",
      "23/23 [==============================] - 0s 5ms/step - loss: 0.6813 - auc: 0.6475 - precision: 0.5620 - recall: 0.4892 - val_loss: 0.6856 - val_auc: 0.6842 - val_precision: 0.5424 - val_recall: 0.5000\n",
      "Epoch 42/50\n",
      "23/23 [==============================] - 0s 4ms/step - loss: 0.6053 - auc: 0.7072 - precision: 0.6928 - recall: 0.3813 - val_loss: 0.7357 - val_auc: 0.6742 - val_precision: 0.4200 - val_recall: 0.6562\n",
      "Epoch 43/50\n",
      "23/23 [==============================] - 0s 4ms/step - loss: 0.6326 - auc: 0.6736 - precision: 0.5930 - recall: 0.4245 - val_loss: 0.6723 - val_auc: 0.6838 - val_precision: 0.5882 - val_recall: 0.4688\n",
      "Epoch 44/50\n",
      "23/23 [==============================] - 0s 4ms/step - loss: 0.6155 - auc: 0.6895 - precision: 0.6407 - recall: 0.3849 - val_loss: 0.6662 - val_auc: 0.6811 - val_precision: 0.5690 - val_recall: 0.5156\n",
      "Epoch 45/50\n",
      "23/23 [==============================] - 0s 4ms/step - loss: 0.5995 - auc: 0.7105 - precision: 0.6610 - recall: 0.4209 - val_loss: 0.6940 - val_auc: 0.6857 - val_precision: 0.5946 - val_recall: 0.3438\n",
      "Epoch 46/50\n",
      "23/23 [==============================] - 0s 4ms/step - loss: 0.6362 - auc: 0.6808 - precision: 0.5685 - recall: 0.4029 - val_loss: 0.6778 - val_auc: 0.6832 - val_precision: 0.4800 - val_recall: 0.5625\n",
      "Epoch 47/50\n",
      "23/23 [==============================] - 0s 4ms/step - loss: 0.6409 - auc: 0.6696 - precision: 0.5721 - recall: 0.4281 - val_loss: 0.6516 - val_auc: 0.6878 - val_precision: 0.5854 - val_recall: 0.3750\n",
      "Epoch 48/50\n",
      "23/23 [==============================] - 0s 4ms/step - loss: 0.6286 - auc: 0.6866 - precision: 0.6481 - recall: 0.3777 - val_loss: 0.7297 - val_auc: 0.6793 - val_precision: 0.4356 - val_recall: 0.6875\n",
      "Epoch 49/50\n",
      "23/23 [==============================] - 0s 4ms/step - loss: 0.6842 - auc: 0.6641 - precision: 0.5238 - recall: 0.4353 - val_loss: 0.8859 - val_auc: 0.6828 - val_precision: 0.4080 - val_recall: 0.7969\n",
      "Epoch 50/50\n",
      "23/23 [==============================] - 0s 4ms/step - loss: 0.6276 - auc: 0.6789 - precision: 0.5789 - recall: 0.4353 - val_loss: 0.7422 - val_auc: 0.6702 - val_precision: 0.4667 - val_recall: 0.6562\n"
     ]
    },
    {
     "data": {
      "text/plain": [
       "<keras.callbacks.History at 0x1561607f0>"
      ]
     },
     "execution_count": 64,
     "metadata": {},
     "output_type": "execute_result"
    }
   ],
   "source": [
    "# sc = StandardScaler()\n",
    "# x_scaled = sc.fit_transform(x_dl)\n",
    "\n",
    "model.compile(optimizer='Adam', loss='BinaryCrossentropy',\n",
    "              metrics=['AUC', 'Precision', 'Recall'])\n",
    "\n",
    "model.fit(x=x_dl, y=y_dl, validation_split=0.2,\n",
    "          epochs=50, callbacks=callbacks)"
   ]
  }
 ],
 "metadata": {
  "kernelspec": {
   "display_name": "saturn (Python 3)",
   "language": "python",
   "name": "python3"
  },
  "language_info": {
   "codemirror_mode": {
    "name": "ipython",
    "version": 3
   },
   "file_extension": ".py",
   "mimetype": "text/x-python",
   "name": "python",
   "nbconvert_exporter": "python",
   "pygments_lexer": "ipython3",
   "version": "3.9.6"
  },
  "vscode": {
   "interpreter": {
    "hash": "31f2aee4e71d21fbe5cf8b01ff0e069b9275f58929596ceb00d14d90e3e16cd6"
   }
  }
 },
 "nbformat": 4,
 "nbformat_minor": 4
}
