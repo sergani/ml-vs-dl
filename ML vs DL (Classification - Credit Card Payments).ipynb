{
 "cells": [
  {
   "cell_type": "markdown",
   "metadata": {},
   "source": [
    "# Import Modules"
   ]
  },
  {
   "cell_type": "code",
   "execution_count": 1,
   "metadata": {
    "execution": {
     "iopub.execute_input": "2022-11-19T21:02:32.562463Z",
     "iopub.status.busy": "2022-11-19T21:02:32.561818Z",
     "iopub.status.idle": "2022-11-19T21:02:35.265741Z",
     "shell.execute_reply": "2022-11-19T21:02:35.265015Z",
     "shell.execute_reply.started": "2022-11-19T21:02:32.562387Z"
    },
    "tags": []
   },
   "outputs": [
    {
     "name": "stderr",
     "output_type": "stream",
     "text": [
      "2022-11-25 08:40:45.479274: I tensorflow/core/platform/cpu_feature_guard.cc:193] This TensorFlow binary is optimized with oneAPI Deep Neural Network Library (oneDNN) to use the following CPU instructions in performance-critical operations:  AVX2 FMA\n",
      "To enable them in other operations, rebuild TensorFlow with the appropriate compiler flags.\n"
     ]
    }
   ],
   "source": [
    "import matplotlib as mpl\n",
    "import matplotlib.pyplot as plt\n",
    "import numpy as np\n",
    "import os\n",
    "import pandas as pd\n",
    "import seaborn as sns\n",
    "import shutil\n",
    "import tensorflow as tf\n",
    "\n",
    "from datetime import datetime\n",
    "from keras.layers import Dense\n",
    "from keras.models import Sequential\n",
    "from sklearn import metrics\n",
    "from sklearn.ensemble import RandomForestClassifier\n",
    "from sklearn.ensemble import RandomForestRegressor\n",
    "from sklearn.ensemble import VotingClassifier\n",
    "from sklearn.exceptions import ConvergenceWarning\n",
    "from sklearn.feature_selection import chi2\n",
    "from sklearn.feature_selection import r_regression, SelectKBest\n",
    "from sklearn.feature_selection import r_regression, SelectPercentile\n",
    "from sklearn.feature_selection import f_regression\n",
    "from sklearn.linear_model import LogisticRegression, RidgeCV, LassoCV, Ridge, Lasso\n",
    "from sklearn.metrics import roc_auc_score\n",
    "from sklearn.metrics import roc_curve\n",
    "from sklearn.model_selection import GridSearchCV\n",
    "from sklearn.model_selection import RepeatedStratifiedKFold\n",
    "from sklearn.model_selection import train_test_split\n",
    "from sklearn.naive_bayes import GaussianNB\n",
    "from sklearn.neighbors import KNeighborsClassifier\n",
    "from sklearn.preprocessing import MinMaxScaler\n",
    "from sklearn.preprocessing import OrdinalEncoder\n",
    "from sklearn.preprocessing import StandardScaler\n",
    "from sklearn.svm import SVC\n",
    "from sklearn.tree import DecisionTreeClassifier\n",
    "from sklearn.utils._testing import ignore_warnings\n",
    "from tensorflow import keras\n",
    "from keras.callbacks import TensorBoard\n",
    "from tabulate import tabulate\n",
    "from xgboost import XGBClassifier\n",
    "\n",
    "%matplotlib inline\n"
   ]
  },
  {
   "cell_type": "code",
   "execution_count": 2,
   "metadata": {
    "execution": {
     "iopub.execute_input": "2022-11-19T21:02:35.267997Z",
     "iopub.status.busy": "2022-11-19T21:02:35.267427Z",
     "iopub.status.idle": "2022-11-19T21:02:37.510640Z",
     "shell.execute_reply": "2022-11-19T21:02:37.509899Z",
     "shell.execute_reply.started": "2022-11-19T21:02:35.267962Z"
    },
    "tags": []
   },
   "outputs": [
    {
     "name": "stdout",
     "output_type": "stream",
     "text": [
      "\u001b[33mDEPRECATION: Python 2.7 reached the end of its life on January 1st, 2020. Please upgrade your Python as Python 2.7 is no longer maintained. pip 21.0 will drop support for Python 2.7 in January 2021. More details about Python 2 support in pip can be found at https://pip.pypa.io/en/latest/development/release-process/#python-2-support pip 21.0 will remove support for this functionality.\u001b[0m\n",
      "Requirement already satisfied: gdown in /Library/Frameworks/Python.framework/Versions/2.7/lib/python2.7/site-packages (4.5.3)\n",
      "Requirement already satisfied: six in /Library/Frameworks/Python.framework/Versions/2.7/lib/python2.7/site-packages (from gdown) (1.16.0)\n",
      "Requirement already satisfied: tqdm in /Library/Frameworks/Python.framework/Versions/2.7/lib/python2.7/site-packages (from gdown) (4.64.1)\n",
      "Requirement already satisfied: filelock in /Library/Frameworks/Python.framework/Versions/2.7/lib/python2.7/site-packages (from gdown) (3.2.1)\n",
      "Requirement already satisfied: requests[socks] in /Library/Frameworks/Python.framework/Versions/2.7/lib/python2.7/site-packages (from gdown) (2.27.1)\n",
      "Requirement already satisfied: beautifulsoup4 in /Library/Frameworks/Python.framework/Versions/2.7/lib/python2.7/site-packages (from gdown) (4.9.3)\n",
      "Requirement already satisfied: importlib-resources; python_version < \"3.7\" in /Library/Frameworks/Python.framework/Versions/2.7/lib/python2.7/site-packages (from tqdm->gdown) (3.3.1)\n",
      "Requirement already satisfied: urllib3<1.27,>=1.21.1 in /Library/Frameworks/Python.framework/Versions/2.7/lib/python2.7/site-packages (from requests[socks]->gdown) (1.26.12)\n",
      "Requirement already satisfied: certifi>=2017.4.17 in /Library/Frameworks/Python.framework/Versions/2.7/lib/python2.7/site-packages (from requests[socks]->gdown) (2021.10.8)\n",
      "Requirement already satisfied: chardet<5,>=3.0.2; python_version < \"3\" in /Library/Frameworks/Python.framework/Versions/2.7/lib/python2.7/site-packages (from requests[socks]->gdown) (4.0.0)\n",
      "Requirement already satisfied: idna<3,>=2.5; python_version < \"3\" in /Users/sergani/Library/Python/2.7/lib/python/site-packages (from requests[socks]->gdown) (2.10)\n",
      "Requirement already satisfied: PySocks!=1.5.7,>=1.5.6; extra == \"socks\" in /Library/Frameworks/Python.framework/Versions/2.7/lib/python2.7/site-packages (from requests[socks]->gdown) (1.7.1)\n",
      "Requirement already satisfied: soupsieve<2.0,>1.2; python_version < \"3.0\" in /Library/Frameworks/Python.framework/Versions/2.7/lib/python2.7/site-packages (from beautifulsoup4->gdown) (1.9.6)\n",
      "Requirement already satisfied: pathlib2; python_version < \"3\" in /Library/Frameworks/Python.framework/Versions/2.7/lib/python2.7/site-packages (from importlib-resources; python_version < \"3.7\"->tqdm->gdown) (2.3.7.post1)\n",
      "Requirement already satisfied: contextlib2; python_version < \"3\" in /Library/Frameworks/Python.framework/Versions/2.7/lib/python2.7/site-packages (from importlib-resources; python_version < \"3.7\"->tqdm->gdown) (0.6.0.post1)\n",
      "Requirement already satisfied: typing; python_version < \"3.5\" in /Users/sergani/Library/Python/2.7/lib/python/site-packages (from importlib-resources; python_version < \"3.7\"->tqdm->gdown) (3.7.4.3)\n",
      "Requirement already satisfied: zipp>=0.4; python_version < \"3.8\" in /Library/Frameworks/Python.framework/Versions/2.7/lib/python2.7/site-packages (from importlib-resources; python_version < \"3.7\"->tqdm->gdown) (1.2.0)\n",
      "Requirement already satisfied: singledispatch; python_version < \"3.4\" in /Library/Frameworks/Python.framework/Versions/2.7/lib/python2.7/site-packages (from importlib-resources; python_version < \"3.7\"->tqdm->gdown) (3.7.0)\n",
      "Requirement already satisfied: backports.functools-lru-cache; python_version < \"3\" in /Library/Frameworks/Python.framework/Versions/2.7/lib/python2.7/site-packages (from soupsieve<2.0,>1.2; python_version < \"3.0\"->beautifulsoup4->gdown) (1.6.4)\n",
      "Requirement already satisfied: scandir; python_version < \"3.5\" in /Library/Frameworks/Python.framework/Versions/2.7/lib/python2.7/site-packages (from pathlib2; python_version < \"3\"->importlib-resources; python_version < \"3.7\"->tqdm->gdown) (1.10.0)\n"
     ]
    }
   ],
   "source": [
    "!pip install gdown"
   ]
  },
  {
   "cell_type": "code",
   "execution_count": 3,
   "metadata": {
    "execution": {
     "iopub.execute_input": "2022-11-19T21:02:37.512038Z",
     "iopub.status.busy": "2022-11-19T21:02:37.511727Z",
     "iopub.status.idle": "2022-11-19T21:02:37.515841Z",
     "shell.execute_reply": "2022-11-19T21:02:37.515091Z",
     "shell.execute_reply.started": "2022-11-19T21:02:37.512015Z"
    },
    "tags": []
   },
   "outputs": [],
   "source": [
    "pd.set_option('display.show_dimensions', True)\n",
    "pd.set_option('display.max_columns', 200)\n"
   ]
  },
  {
   "cell_type": "markdown",
   "metadata": {},
   "source": [
    "# Load Data"
   ]
  },
  {
   "cell_type": "code",
   "execution_count": 4,
   "metadata": {
    "execution": {
     "iopub.execute_input": "2022-11-19T21:02:37.517039Z",
     "iopub.status.busy": "2022-11-19T21:02:37.516724Z",
     "iopub.status.idle": "2022-11-19T21:02:38.859592Z",
     "shell.execute_reply": "2022-11-19T21:02:38.858892Z",
     "shell.execute_reply.started": "2022-11-19T21:02:37.517021Z"
    },
    "tags": []
   },
   "outputs": [],
   "source": [
    "df = pd.read_csv('~/Downloads/credit card payments.csv')"
   ]
  },
  {
   "cell_type": "code",
   "execution_count": 5,
   "metadata": {
    "execution": {
     "iopub.execute_input": "2022-11-19T21:02:38.862388Z",
     "iopub.status.busy": "2022-11-19T21:02:38.861966Z",
     "iopub.status.idle": "2022-11-19T21:02:38.888079Z",
     "shell.execute_reply": "2022-11-19T21:02:38.887368Z",
     "shell.execute_reply.started": "2022-11-19T21:02:38.862356Z"
    },
    "tags": []
   },
   "outputs": [
    {
     "data": {
      "text/html": [
       "<div>\n",
       "<style scoped>\n",
       "    .dataframe tbody tr th:only-of-type {\n",
       "        vertical-align: middle;\n",
       "    }\n",
       "\n",
       "    .dataframe tbody tr th {\n",
       "        vertical-align: top;\n",
       "    }\n",
       "\n",
       "    .dataframe thead th {\n",
       "        text-align: right;\n",
       "    }\n",
       "</style>\n",
       "<table border=\"1\" class=\"dataframe\">\n",
       "  <thead>\n",
       "    <tr style=\"text-align: right;\">\n",
       "      <th></th>\n",
       "      <th>Time</th>\n",
       "      <th>V1</th>\n",
       "      <th>V2</th>\n",
       "      <th>V3</th>\n",
       "      <th>V4</th>\n",
       "      <th>V5</th>\n",
       "      <th>V6</th>\n",
       "      <th>V7</th>\n",
       "      <th>V8</th>\n",
       "      <th>V9</th>\n",
       "      <th>V10</th>\n",
       "      <th>V11</th>\n",
       "      <th>V12</th>\n",
       "      <th>V13</th>\n",
       "      <th>V14</th>\n",
       "      <th>V15</th>\n",
       "      <th>V16</th>\n",
       "      <th>V17</th>\n",
       "      <th>V18</th>\n",
       "      <th>V19</th>\n",
       "      <th>V20</th>\n",
       "      <th>V21</th>\n",
       "      <th>V22</th>\n",
       "      <th>V23</th>\n",
       "      <th>V24</th>\n",
       "      <th>V25</th>\n",
       "      <th>V26</th>\n",
       "      <th>V27</th>\n",
       "      <th>V28</th>\n",
       "      <th>Amount</th>\n",
       "      <th>Class</th>\n",
       "    </tr>\n",
       "  </thead>\n",
       "  <tbody>\n",
       "    <tr>\n",
       "      <th>0</th>\n",
       "      <td>0.0</td>\n",
       "      <td>-1.359807</td>\n",
       "      <td>-0.072781</td>\n",
       "      <td>2.536347</td>\n",
       "      <td>1.378155</td>\n",
       "      <td>-0.338321</td>\n",
       "      <td>0.462388</td>\n",
       "      <td>0.239599</td>\n",
       "      <td>0.098698</td>\n",
       "      <td>0.363787</td>\n",
       "      <td>0.090794</td>\n",
       "      <td>-0.551600</td>\n",
       "      <td>-0.617801</td>\n",
       "      <td>-0.991390</td>\n",
       "      <td>-0.311169</td>\n",
       "      <td>1.468177</td>\n",
       "      <td>-0.470401</td>\n",
       "      <td>0.207971</td>\n",
       "      <td>0.025791</td>\n",
       "      <td>0.403993</td>\n",
       "      <td>0.251412</td>\n",
       "      <td>-0.018307</td>\n",
       "      <td>0.277838</td>\n",
       "      <td>-0.110474</td>\n",
       "      <td>0.066928</td>\n",
       "      <td>0.128539</td>\n",
       "      <td>-0.189115</td>\n",
       "      <td>0.133558</td>\n",
       "      <td>-0.021053</td>\n",
       "      <td>149.62</td>\n",
       "      <td>0</td>\n",
       "    </tr>\n",
       "    <tr>\n",
       "      <th>1</th>\n",
       "      <td>0.0</td>\n",
       "      <td>1.191857</td>\n",
       "      <td>0.266151</td>\n",
       "      <td>0.166480</td>\n",
       "      <td>0.448154</td>\n",
       "      <td>0.060018</td>\n",
       "      <td>-0.082361</td>\n",
       "      <td>-0.078803</td>\n",
       "      <td>0.085102</td>\n",
       "      <td>-0.255425</td>\n",
       "      <td>-0.166974</td>\n",
       "      <td>1.612727</td>\n",
       "      <td>1.065235</td>\n",
       "      <td>0.489095</td>\n",
       "      <td>-0.143772</td>\n",
       "      <td>0.635558</td>\n",
       "      <td>0.463917</td>\n",
       "      <td>-0.114805</td>\n",
       "      <td>-0.183361</td>\n",
       "      <td>-0.145783</td>\n",
       "      <td>-0.069083</td>\n",
       "      <td>-0.225775</td>\n",
       "      <td>-0.638672</td>\n",
       "      <td>0.101288</td>\n",
       "      <td>-0.339846</td>\n",
       "      <td>0.167170</td>\n",
       "      <td>0.125895</td>\n",
       "      <td>-0.008983</td>\n",
       "      <td>0.014724</td>\n",
       "      <td>2.69</td>\n",
       "      <td>0</td>\n",
       "    </tr>\n",
       "    <tr>\n",
       "      <th>2</th>\n",
       "      <td>1.0</td>\n",
       "      <td>-1.358354</td>\n",
       "      <td>-1.340163</td>\n",
       "      <td>1.773209</td>\n",
       "      <td>0.379780</td>\n",
       "      <td>-0.503198</td>\n",
       "      <td>1.800499</td>\n",
       "      <td>0.791461</td>\n",
       "      <td>0.247676</td>\n",
       "      <td>-1.514654</td>\n",
       "      <td>0.207643</td>\n",
       "      <td>0.624501</td>\n",
       "      <td>0.066084</td>\n",
       "      <td>0.717293</td>\n",
       "      <td>-0.165946</td>\n",
       "      <td>2.345865</td>\n",
       "      <td>-2.890083</td>\n",
       "      <td>1.109969</td>\n",
       "      <td>-0.121359</td>\n",
       "      <td>-2.261857</td>\n",
       "      <td>0.524980</td>\n",
       "      <td>0.247998</td>\n",
       "      <td>0.771679</td>\n",
       "      <td>0.909412</td>\n",
       "      <td>-0.689281</td>\n",
       "      <td>-0.327642</td>\n",
       "      <td>-0.139097</td>\n",
       "      <td>-0.055353</td>\n",
       "      <td>-0.059752</td>\n",
       "      <td>378.66</td>\n",
       "      <td>0</td>\n",
       "    </tr>\n",
       "    <tr>\n",
       "      <th>3</th>\n",
       "      <td>1.0</td>\n",
       "      <td>-0.966272</td>\n",
       "      <td>-0.185226</td>\n",
       "      <td>1.792993</td>\n",
       "      <td>-0.863291</td>\n",
       "      <td>-0.010309</td>\n",
       "      <td>1.247203</td>\n",
       "      <td>0.237609</td>\n",
       "      <td>0.377436</td>\n",
       "      <td>-1.387024</td>\n",
       "      <td>-0.054952</td>\n",
       "      <td>-0.226487</td>\n",
       "      <td>0.178228</td>\n",
       "      <td>0.507757</td>\n",
       "      <td>-0.287924</td>\n",
       "      <td>-0.631418</td>\n",
       "      <td>-1.059647</td>\n",
       "      <td>-0.684093</td>\n",
       "      <td>1.965775</td>\n",
       "      <td>-1.232622</td>\n",
       "      <td>-0.208038</td>\n",
       "      <td>-0.108300</td>\n",
       "      <td>0.005274</td>\n",
       "      <td>-0.190321</td>\n",
       "      <td>-1.175575</td>\n",
       "      <td>0.647376</td>\n",
       "      <td>-0.221929</td>\n",
       "      <td>0.062723</td>\n",
       "      <td>0.061458</td>\n",
       "      <td>123.50</td>\n",
       "      <td>0</td>\n",
       "    </tr>\n",
       "    <tr>\n",
       "      <th>4</th>\n",
       "      <td>2.0</td>\n",
       "      <td>-1.158233</td>\n",
       "      <td>0.877737</td>\n",
       "      <td>1.548718</td>\n",
       "      <td>0.403034</td>\n",
       "      <td>-0.407193</td>\n",
       "      <td>0.095921</td>\n",
       "      <td>0.592941</td>\n",
       "      <td>-0.270533</td>\n",
       "      <td>0.817739</td>\n",
       "      <td>0.753074</td>\n",
       "      <td>-0.822843</td>\n",
       "      <td>0.538196</td>\n",
       "      <td>1.345852</td>\n",
       "      <td>-1.119670</td>\n",
       "      <td>0.175121</td>\n",
       "      <td>-0.451449</td>\n",
       "      <td>-0.237033</td>\n",
       "      <td>-0.038195</td>\n",
       "      <td>0.803487</td>\n",
       "      <td>0.408542</td>\n",
       "      <td>-0.009431</td>\n",
       "      <td>0.798278</td>\n",
       "      <td>-0.137458</td>\n",
       "      <td>0.141267</td>\n",
       "      <td>-0.206010</td>\n",
       "      <td>0.502292</td>\n",
       "      <td>0.219422</td>\n",
       "      <td>0.215153</td>\n",
       "      <td>69.99</td>\n",
       "      <td>0</td>\n",
       "    </tr>\n",
       "  </tbody>\n",
       "</table>\n",
       "<p>5 rows × 31 columns</p>\n",
       "</div>"
      ],
      "text/plain": [
       "   Time        V1        V2        V3        V4        V5        V6        V7  \\\n",
       "0   0.0 -1.359807 -0.072781  2.536347  1.378155 -0.338321  0.462388  0.239599   \n",
       "1   0.0  1.191857  0.266151  0.166480  0.448154  0.060018 -0.082361 -0.078803   \n",
       "2   1.0 -1.358354 -1.340163  1.773209  0.379780 -0.503198  1.800499  0.791461   \n",
       "3   1.0 -0.966272 -0.185226  1.792993 -0.863291 -0.010309  1.247203  0.237609   \n",
       "4   2.0 -1.158233  0.877737  1.548718  0.403034 -0.407193  0.095921  0.592941   \n",
       "\n",
       "         V8        V9       V10       V11       V12       V13       V14  \\\n",
       "0  0.098698  0.363787  0.090794 -0.551600 -0.617801 -0.991390 -0.311169   \n",
       "1  0.085102 -0.255425 -0.166974  1.612727  1.065235  0.489095 -0.143772   \n",
       "2  0.247676 -1.514654  0.207643  0.624501  0.066084  0.717293 -0.165946   \n",
       "3  0.377436 -1.387024 -0.054952 -0.226487  0.178228  0.507757 -0.287924   \n",
       "4 -0.270533  0.817739  0.753074 -0.822843  0.538196  1.345852 -1.119670   \n",
       "\n",
       "        V15       V16       V17       V18       V19       V20       V21  \\\n",
       "0  1.468177 -0.470401  0.207971  0.025791  0.403993  0.251412 -0.018307   \n",
       "1  0.635558  0.463917 -0.114805 -0.183361 -0.145783 -0.069083 -0.225775   \n",
       "2  2.345865 -2.890083  1.109969 -0.121359 -2.261857  0.524980  0.247998   \n",
       "3 -0.631418 -1.059647 -0.684093  1.965775 -1.232622 -0.208038 -0.108300   \n",
       "4  0.175121 -0.451449 -0.237033 -0.038195  0.803487  0.408542 -0.009431   \n",
       "\n",
       "        V22       V23       V24       V25       V26       V27       V28  \\\n",
       "0  0.277838 -0.110474  0.066928  0.128539 -0.189115  0.133558 -0.021053   \n",
       "1 -0.638672  0.101288 -0.339846  0.167170  0.125895 -0.008983  0.014724   \n",
       "2  0.771679  0.909412 -0.689281 -0.327642 -0.139097 -0.055353 -0.059752   \n",
       "3  0.005274 -0.190321 -1.175575  0.647376 -0.221929  0.062723  0.061458   \n",
       "4  0.798278 -0.137458  0.141267 -0.206010  0.502292  0.219422  0.215153   \n",
       "\n",
       "   Amount  Class  \n",
       "0  149.62      0  \n",
       "1    2.69      0  \n",
       "2  378.66      0  \n",
       "3  123.50      0  \n",
       "4   69.99      0  \n",
       "\n",
       "[5 rows x 31 columns]"
      ]
     },
     "execution_count": 5,
     "metadata": {},
     "output_type": "execute_result"
    }
   ],
   "source": [
    "df.head()"
   ]
  },
  {
   "cell_type": "markdown",
   "metadata": {},
   "source": [
    "# Categorical Encoding"
   ]
  },
  {
   "cell_type": "code",
   "execution_count": 6,
   "metadata": {
    "execution": {
     "iopub.execute_input": "2022-11-19T21:02:38.889118Z",
     "iopub.status.busy": "2022-11-19T21:02:38.888907Z",
     "iopub.status.idle": "2022-11-19T21:02:38.921541Z",
     "shell.execute_reply": "2022-11-19T21:02:38.920736Z",
     "shell.execute_reply.started": "2022-11-19T21:02:38.889099Z"
    },
    "tags": []
   },
   "outputs": [
    {
     "name": "stdout",
     "output_type": "stream",
     "text": [
      "[]\n"
     ]
    }
   ],
   "source": [
    "# create a dataframe copy just for feature selection\n",
    "df_fs = df.copy(deep=True)\n",
    "\n",
    "# encode the categorical data\n",
    "cat_cols = [col for col in df_fs.columns if df_fs[col].dtype == 'object']\n",
    "print(cat_cols)\n",
    "oe = OrdinalEncoder()\n",
    "df_fs[cat_cols] = oe.fit_transform(df_fs[cat_cols])"
   ]
  },
  {
   "cell_type": "code",
   "execution_count": 7,
   "metadata": {
    "execution": {
     "iopub.execute_input": "2022-11-19T21:02:38.922630Z",
     "iopub.status.busy": "2022-11-19T21:02:38.922415Z",
     "iopub.status.idle": "2022-11-19T21:02:38.927383Z",
     "shell.execute_reply": "2022-11-19T21:02:38.926667Z",
     "shell.execute_reply.started": "2022-11-19T21:02:38.922610Z"
    },
    "tags": []
   },
   "outputs": [
    {
     "data": {
      "text/plain": [
       "(284807, 31)"
      ]
     },
     "execution_count": 7,
     "metadata": {},
     "output_type": "execute_result"
    }
   ],
   "source": [
    "df.shape"
   ]
  },
  {
   "cell_type": "markdown",
   "metadata": {},
   "source": [
    "There is no categorical features in this dataset. We will proceed forward using the original dataframe (df)."
   ]
  },
  {
   "cell_type": "markdown",
   "metadata": {},
   "source": [
    "# Feature Selection"
   ]
  },
  {
   "cell_type": "markdown",
   "metadata": {},
   "source": [
    "## Drop Useless Features"
   ]
  },
  {
   "cell_type": "code",
   "execution_count": 8,
   "metadata": {
    "execution": {
     "iopub.execute_input": "2022-11-19T21:02:38.928434Z",
     "iopub.status.busy": "2022-11-19T21:02:38.928216Z",
     "iopub.status.idle": "2022-11-19T21:02:38.954923Z",
     "shell.execute_reply": "2022-11-19T21:02:38.954266Z",
     "shell.execute_reply.started": "2022-11-19T21:02:38.928415Z"
    },
    "tags": []
   },
   "outputs": [],
   "source": [
    "x = df.drop('Class', axis=1)\n",
    "y = df['Class']"
   ]
  },
  {
   "cell_type": "code",
   "execution_count": 9,
   "metadata": {
    "execution": {
     "iopub.execute_input": "2022-11-19T21:02:38.956334Z",
     "iopub.status.busy": "2022-11-19T21:02:38.955763Z",
     "iopub.status.idle": "2022-11-19T21:02:38.959707Z",
     "shell.execute_reply": "2022-11-19T21:02:38.959209Z",
     "shell.execute_reply.started": "2022-11-19T21:02:38.956297Z"
    },
    "tags": []
   },
   "outputs": [],
   "source": [
    "# create this empty set to collect only the selected features later\n",
    "features = set()"
   ]
  },
  {
   "cell_type": "markdown",
   "metadata": {},
   "source": [
    "## Lasso Model"
   ]
  },
  {
   "cell_type": "code",
   "execution_count": 10,
   "metadata": {
    "execution": {
     "iopub.execute_input": "2022-11-19T21:02:38.960654Z",
     "iopub.status.busy": "2022-11-19T21:02:38.960443Z",
     "iopub.status.idle": "2022-11-19T21:02:41.543715Z",
     "shell.execute_reply": "2022-11-19T21:02:41.543037Z",
     "shell.execute_reply.started": "2022-11-19T21:02:38.960635Z"
    }
   },
   "outputs": [
    {
     "name": "stdout",
     "output_type": "stream",
     "text": [
      "Best alpha using built-in LassoCV: 0.024301\n",
      "Best score using built-in LassoCV: 0.000177\n"
     ]
    }
   ],
   "source": [
    "reg = LassoCV()\n",
    "reg.fit(x, y)\n",
    "print(\"Best alpha using built-in LassoCV: %f\" % reg.alpha_)\n",
    "print(\"Best score using built-in LassoCV: %f\" % reg.score(x, y))\n",
    "coef = pd.Series(reg.coef_, index=x.columns)"
   ]
  },
  {
   "cell_type": "code",
   "execution_count": 11,
   "metadata": {
    "execution": {
     "iopub.execute_input": "2022-11-19T21:02:41.544974Z",
     "iopub.status.busy": "2022-11-19T21:02:41.544649Z",
     "iopub.status.idle": "2022-11-19T21:02:41.549137Z",
     "shell.execute_reply": "2022-11-19T21:02:41.548540Z",
     "shell.execute_reply.started": "2022-11-19T21:02:41.544952Z"
    }
   },
   "outputs": [
    {
     "name": "stdout",
     "output_type": "stream",
     "text": [
      "Lasso picked 2 variables and eliminated the other 28 variables.\n"
     ]
    }
   ],
   "source": [
    "print(\"Lasso picked \" + str(sum(coef != 0)) +\n",
    "      \" variables and eliminated the other \" + str(sum(coef == 0)) + \" variables.\")"
   ]
  },
  {
   "cell_type": "code",
   "execution_count": 12,
   "metadata": {
    "execution": {
     "iopub.execute_input": "2022-11-19T21:02:41.550189Z",
     "iopub.status.busy": "2022-11-19T21:02:41.549932Z",
     "iopub.status.idle": "2022-11-19T21:02:41.784126Z",
     "shell.execute_reply": "2022-11-19T21:02:41.783538Z",
     "shell.execute_reply.started": "2022-11-19T21:02:41.550171Z"
    }
   },
   "outputs": [
    {
     "data": {
      "text/plain": [
       "Text(0.5, 1.0, 'Feature importance using Lasso Model')"
      ]
     },
     "execution_count": 12,
     "metadata": {},
     "output_type": "execute_result"
    },
    {
     "data": {
      "image/png": "[encoded data removed]",
      "text/plain": [
       "<Figure size 800x1000 with 1 Axes>"
      ]
     },
     "metadata": {},
     "output_type": "display_data"
    }
   ],
   "source": [
    "imp_coef = coef.sort_values()\n",
    "mpl.rcParams['figure.figsize'] = (8, 10)\n",
    "imp_coef.plot(kind=\"barh\")\n",
    "plt.title(\"Feature importance using Lasso Model\")\n"
   ]
  },
  {
   "cell_type": "code",
   "execution_count": 13,
   "metadata": {
    "execution": {
     "iopub.execute_input": "2022-11-19T21:02:41.785219Z",
     "iopub.status.busy": "2022-11-19T21:02:41.784951Z",
     "iopub.status.idle": "2022-11-19T21:02:41.789033Z",
     "shell.execute_reply": "2022-11-19T21:02:41.788505Z",
     "shell.execute_reply.started": "2022-11-19T21:02:41.785197Z"
    }
   },
   "outputs": [
    {
     "name": "stdout",
     "output_type": "stream",
     "text": [
      "Adding Time.\n",
      "Adding Amount.\n"
     ]
    }
   ],
   "source": [
    "for item in imp_coef[imp_coef != 0].index.tolist():\n",
    "    print(f'Adding {item}.')\n",
    "    features.add(item)"
   ]
  },
  {
   "cell_type": "markdown",
   "metadata": {},
   "source": [
    "## Chi-square"
   ]
  },
  {
   "cell_type": "code",
   "execution_count": 14,
   "metadata": {
    "execution": {
     "iopub.execute_input": "2022-11-19T21:02:41.791604Z",
     "iopub.status.busy": "2022-11-19T21:02:41.791132Z",
     "iopub.status.idle": "2022-11-19T21:02:41.917498Z",
     "shell.execute_reply": "2022-11-19T21:02:41.916810Z",
     "shell.execute_reply.started": "2022-11-19T21:02:41.791585Z"
    }
   },
   "outputs": [],
   "source": [
    "# x contains negative values that cannot be used for chi2\n",
    "# let's normalize x\n",
    "scalar = MinMaxScaler()\n",
    "x_chi = scalar.fit_transform(x)\n",
    "chi_scores = chi2(x_chi, y)"
   ]
  },
  {
   "cell_type": "code",
   "execution_count": 15,
   "metadata": {
    "execution": {
     "iopub.execute_input": "2022-11-19T21:02:41.919151Z",
     "iopub.status.busy": "2022-11-19T21:02:41.918565Z",
     "iopub.status.idle": "2022-11-19T21:02:42.134983Z",
     "shell.execute_reply": "2022-11-19T21:02:42.134368Z",
     "shell.execute_reply.started": "2022-11-19T21:02:41.919122Z"
    }
   },
   "outputs": [
    {
     "data": {
      "text/plain": [
       "<AxesSubplot:>"
      ]
     },
     "execution_count": 15,
     "metadata": {},
     "output_type": "execute_result"
    },
    {
     "data": {
      "image/png": "[encoded data removed]",
      "text/plain": [
       "<Figure size 800x1000 with 1 Axes>"
      ]
     },
     "metadata": {},
     "output_type": "display_data"
    }
   ],
   "source": [
    "# extract and plot the p-values\n",
    "p_values = pd.Series(chi_scores[1], index=x.columns)\n",
    "p_values.sort_values(ascending=False, inplace=True)\n",
    "p_values.plot.bar()"
   ]
  },
  {
   "cell_type": "code",
   "execution_count": 16,
   "metadata": {
    "execution": {
     "iopub.execute_input": "2022-11-19T21:02:42.136080Z",
     "iopub.status.busy": "2022-11-19T21:02:42.135821Z",
     "iopub.status.idle": "2022-11-19T21:02:42.139981Z",
     "shell.execute_reply": "2022-11-19T21:02:42.139450Z",
     "shell.execute_reply.started": "2022-11-19T21:02:42.136060Z"
    }
   },
   "outputs": [
    {
     "name": "stdout",
     "output_type": "stream",
     "text": [
      "Adding V23.\n",
      "Adding V22.\n",
      "Adding V28.\n",
      "Adding V25.\n",
      "Adding V27.\n",
      "Adding V20.\n",
      "Adding V8.\n",
      "Adding V15.\n",
      "Adding V13.\n",
      "Adding V26.\n",
      "Adding V21.\n",
      "Adding Amount.\n",
      "Adding V24.\n",
      "Adding V5.\n",
      "Adding V6.\n",
      "Adding V2.\n",
      "Adding V7.\n",
      "Adding V19.\n",
      "Adding V1.\n",
      "Adding Time.\n",
      "Adding V9.\n",
      "Adding V3.\n"
     ]
    }
   ],
   "source": [
    "for item in p_values[p_values > 0.001].index.tolist():\n",
    "    print(f'Adding {item}.')\n",
    "    features.add(item)"
   ]
  },
  {
   "cell_type": "markdown",
   "metadata": {},
   "source": [
    "## ANOVA f-value"
   ]
  },
  {
   "cell_type": "code",
   "execution_count": 17,
   "metadata": {
    "execution": {
     "iopub.execute_input": "2022-11-19T21:02:42.141160Z",
     "iopub.status.busy": "2022-11-19T21:02:42.140685Z",
     "iopub.status.idle": "2022-11-19T21:02:42.375743Z",
     "shell.execute_reply": "2022-11-19T21:02:42.375122Z",
     "shell.execute_reply.started": "2022-11-19T21:02:42.141141Z"
    }
   },
   "outputs": [
    {
     "data": {
      "text/plain": [
       "<AxesSubplot:>"
      ]
     },
     "execution_count": 17,
     "metadata": {},
     "output_type": "execute_result"
    },
    {
     "data": {
      "image/png": "[encoded data removed]",
      "text/plain": [
       "<Figure size 800x1000 with 1 Axes>"
      ]
     },
     "metadata": {},
     "output_type": "display_data"
    }
   ],
   "source": [
    "f_scores = f_regression(x, y)\n",
    "# extract and plot the p-values\n",
    "p_values = pd.Series(f_scores[1], index=x.columns)\n",
    "p_values.sort_values(ascending=False, inplace=True)\n",
    "p_values.plot.bar()"
   ]
  },
  {
   "cell_type": "code",
   "execution_count": 18,
   "metadata": {
    "execution": {
     "iopub.execute_input": "2022-11-19T21:02:42.376907Z",
     "iopub.status.busy": "2022-11-19T21:02:42.376619Z",
     "iopub.status.idle": "2022-11-19T21:02:42.380754Z",
     "shell.execute_reply": "2022-11-19T21:02:42.380160Z",
     "shell.execute_reply.started": "2022-11-19T21:02:42.376887Z"
    }
   },
   "outputs": [
    {
     "name": "stdout",
     "output_type": "stream",
     "text": [
      "Adding V22.\n",
      "Adding V23.\n",
      "Adding V25.\n",
      "Adding V15.\n",
      "Adding V26.\n",
      "Adding V13.\n",
      "Adding Amount.\n",
      "Adding V24.\n"
     ]
    }
   ],
   "source": [
    "for item in p_values[p_values > 0.0001].index.tolist():\n",
    "    print(f'Adding {item}.')\n",
    "    features.add(item)"
   ]
  },
  {
   "cell_type": "markdown",
   "metadata": {},
   "source": [
    "## Selected Features"
   ]
  },
  {
   "cell_type": "code",
   "execution_count": 19,
   "metadata": {
    "execution": {
     "iopub.execute_input": "2022-11-19T21:02:42.381869Z",
     "iopub.status.busy": "2022-11-19T21:02:42.381517Z",
     "iopub.status.idle": "2022-11-19T21:02:42.386165Z",
     "shell.execute_reply": "2022-11-19T21:02:42.385651Z",
     "shell.execute_reply.started": "2022-11-19T21:02:42.381850Z"
    }
   },
   "outputs": [
    {
     "name": "stdout",
     "output_type": "stream",
     "text": [
      "These are the selected features: {'V19', 'V23', 'V2', 'V24', 'V26', 'V28', 'Amount', 'V6', 'Time', 'V8', 'V3', 'V20', 'V7', 'V15', 'V13', 'V1', 'V27', 'V21', 'V25', 'V9', 'V22', 'V5'}.\n"
     ]
    }
   ],
   "source": [
    "print(f'These are the selected features: {features}.')"
   ]
  },
  {
   "cell_type": "code",
   "execution_count": 20,
   "metadata": {
    "execution": {
     "iopub.execute_input": "2022-11-19T21:02:42.387105Z",
     "iopub.status.busy": "2022-11-19T21:02:42.386844Z",
     "iopub.status.idle": "2022-11-19T21:02:42.409513Z",
     "shell.execute_reply": "2022-11-19T21:02:42.408919Z",
     "shell.execute_reply.started": "2022-11-19T21:02:42.387080Z"
    }
   },
   "outputs": [],
   "source": [
    "# categorical encoded columns + selected features only\n",
    "x = df[list(features)]\n",
    "y = df['Class']"
   ]
  },
  {
   "cell_type": "markdown",
   "metadata": {},
   "source": [
    "# Machine Learning"
   ]
  },
  {
   "cell_type": "code",
   "execution_count": 21,
   "metadata": {
    "execution": {
     "iopub.execute_input": "2022-11-19T21:02:42.410648Z",
     "iopub.status.busy": "2022-11-19T21:02:42.410372Z",
     "iopub.status.idle": "2022-11-19T21:02:42.492907Z",
     "shell.execute_reply": "2022-11-19T21:02:42.492255Z",
     "shell.execute_reply.started": "2022-11-19T21:02:42.410629Z"
    }
   },
   "outputs": [],
   "source": [
    "sc = StandardScaler()\n",
    "x = sc.fit_transform(x)"
   ]
  },
  {
   "cell_type": "code",
   "execution_count": 22,
   "metadata": {
    "execution": {
     "iopub.execute_input": "2022-11-19T21:02:42.494276Z",
     "iopub.status.busy": "2022-11-19T21:02:42.493781Z",
     "iopub.status.idle": "2022-11-19T21:02:42.572028Z",
     "shell.execute_reply": "2022-11-19T21:02:42.571420Z",
     "shell.execute_reply.started": "2022-11-19T21:02:42.494253Z"
    }
   },
   "outputs": [],
   "source": [
    "x_train, x_test, y_train, y_test = train_test_split(\n",
    "    x, y, test_size=0.2, random_state=0)"
   ]
  },
  {
   "cell_type": "code",
   "execution_count": 23,
   "metadata": {
    "execution": {
     "iopub.execute_input": "2022-11-19T21:03:04.439692Z",
     "iopub.status.busy": "2022-11-19T21:03:04.439334Z",
     "iopub.status.idle": "2022-11-19T21:03:04.463744Z",
     "shell.execute_reply": "2022-11-19T21:03:04.463203Z",
     "shell.execute_reply.started": "2022-11-19T21:03:04.439669Z"
    },
    "tags": []
   },
   "outputs": [],
   "source": [
    "@ignore_warnings(category=ConvergenceWarning)\n",
    "class ClassifierModels():\n",
    "    def __init__(self, df, x, y, x_test, y_test):\n",
    "        '''Init function. Make sure to pass x_train and y_train here.'''\n",
    "\n",
    "        self.df = df\n",
    "        self.x = x\n",
    "        self.y = y\n",
    "        self.x_test = x_test\n",
    "        self.y_test = y_test\n",
    "        \n",
    "        print('#' * 60)\n",
    "        print(f'{\" Loading dataframe \":#^60}')\n",
    "        print('#' * 60)\n",
    "        print(f'{\" Getting best parameters to create our models \":#^60}')\n",
    "        print('#' * 60)\n",
    "\n",
    "        # hold abbreviations and full names\n",
    "        self.model_abr = {\n",
    "            'lr': 'Logistic Regression',\n",
    "            'knn': 'KNeighbors Classifier',\n",
    "            # 'svm': 'Support Vector Machine',\n",
    "            'dtc': 'Decision Tree Classifier',\n",
    "            'rfc': 'Random Forest Classifier',\n",
    "            'ensemble': 'Voting Classifier',\n",
    "            'xgb': 'XGB Classifier',\n",
    "            'nb': 'Naive Bayes'\n",
    "            }\n",
    "\n",
    "        # hold the actual models\n",
    "        self.models = {}\n",
    "        self.model_predicts = {}\n",
    "        self.model_predicts_proba = {}\n",
    "\n",
    "        # loop over the models dict to get each model's best params\n",
    "        for model in self.model_abr:\n",
    "            print('#' * 60)\n",
    "            print(f'{\" \" + self.model_abr[model] + \" \":#^60}')\n",
    "            print('#' * 60)\n",
    "            # params = self.get_best_params(model)\n",
    "\n",
    "            # print('+++++ Best parameters for the {} model: {}'.format(\n",
    "            #     self.model_abr[model], params))\n",
    "            print('+++++ Creating and fitting the {} model using its default parameters...'.format(\n",
    "                self.model_abr[model]))\n",
    "\n",
    "            if model == 'lr':\n",
    "                # m = LogisticRegression(\n",
    "                #     solver=params['solver'],\n",
    "                #     penalty=params['penalty'],\n",
    "                #     C=params['C']\n",
    "                #     )\n",
    "                m = LogisticRegression(n_jobs=-1)\n",
    "                m.fit(self.x, self.y)\n",
    "\n",
    "                self.models[model] = m\n",
    "\n",
    "            elif model == 'knn':\n",
    "                # m = KNeighborsClassifier(\n",
    "                #     n_neighbors=params['n_neighbors'],\n",
    "                #     weights=params['weights'],\n",
    "                #     metric=params['metric']\n",
    "                #     )\n",
    "                m = KNeighborsClassifier(n_jobs=-1)\n",
    "                m.fit(self.x, self.y)\n",
    "\n",
    "                self.models[model] = m\n",
    "\n",
    "            elif model == 'svm':\n",
    "                # m = SVC(\n",
    "                #     kernel=params['kernel'],\n",
    "                #     C=params['C'],\n",
    "                #     gamma=params['gamma'],\n",
    "                #     probability=True\n",
    "                #     )\n",
    "                m = SVC(probability=True)\n",
    "                m.fit(self.x, self.y)\n",
    "\n",
    "                self.models[model] = m\n",
    "\n",
    "            elif model == 'dtc':\n",
    "                # m = DecisionTreeClassifier(\n",
    "                #     criterion=params['criterion'],\n",
    "                #     splitter=params['splitter'],\n",
    "                #     max_features=params['max_features']\n",
    "                #     )\n",
    "                m = DecisionTreeClassifier()\n",
    "                m.fit(self.x, self.y)\n",
    "\n",
    "                self.models[model] = m\n",
    "\n",
    "            elif model == 'rfc':\n",
    "                # m = RandomForestClassifier(\n",
    "                #     n_estimators=params['n_estimators'],\n",
    "                #     max_features=params['max_features']\n",
    "                #     )\n",
    "                m = RandomForestClassifier(n_jobs=-1)\n",
    "                m.fit(self.x, self.y)\n",
    "\n",
    "                self.models[model] = m\n",
    "\n",
    "            elif model == 'ensemble':\n",
    "                m = VotingClassifier(\n",
    "                    estimators=[\n",
    "                        ('Logistic Regression', self.models['lr']),\n",
    "                        ('Decission Tree Classifier', self.models['dtc']),\n",
    "                        ('Random Forrest Classifier', self.models['rfc']),\n",
    "                        ('KNN', self.models['knn'])\n",
    "                        # ('SVM', self.models['svm'])\n",
    "                        ],\n",
    "                    # weights=[10, 10, 10, 10, 10],\n",
    "                    weights=[10, 10, 10, 10],\n",
    "                    voting='soft', \n",
    "                    n_jobs=-1)\n",
    "                m.fit(self.x, self.y)\n",
    "\n",
    "                self.models[model] = m\n",
    "\n",
    "            elif model == 'xgb':\n",
    "                m = XGBClassifier(use_label_encoder=False)\n",
    "                m.fit(self.x, self.y)\n",
    "\n",
    "                self.models[model] = m\n",
    "\n",
    "            elif model == 'nb':\n",
    "                m = GaussianNB()\n",
    "                m.fit(self.x, self.y)\n",
    "\n",
    "                self.models[model] = m\n",
    "\n",
    "        print('#' * 60)\n",
    "        print(f'{\" All models created and fitted successfully! \":#^60}')\n",
    "        print('#' * 60)\n",
    "\n",
    "        # loop over the models and get the y_pred\n",
    "        for model in self.model_abr:\n",
    "            y_pred = self.models[model].predict(self.x_test)\n",
    "\n",
    "            self.model_predicts[model] = y_pred\n",
    "        \n",
    "        print('#' * 60)\n",
    "        print(f'{\" All y_preds created successfully! \":#^60}')\n",
    "        print('#' * 60)\n",
    "\n",
    "        # loop over the models and get the y_pred_proba\n",
    "        for model in self.model_abr:\n",
    "            y_pred_proba = self.models[model].predict_proba(self.x_test)\n",
    "\n",
    "            self.model_predicts_proba[model] = y_pred_proba\n",
    "        \n",
    "        print('#' * 60)\n",
    "        print(f'{\" All y_pred_probas created successfully! \":#^60}')\n",
    "        print('#' * 60)\n",
    "\n",
    "    @ignore_warnings(category=ConvergenceWarning)\n",
    "    def get_best_params(self, model):\n",
    "        '''This method returns the best params for hypertuning each model'''\n",
    "\n",
    "        if model == 'lr':\n",
    "            # model\n",
    "            lr_model = LogisticRegression()\n",
    "\n",
    "            # params\n",
    "            solver = ['newton-cg', 'lbfgs', 'liblinear']\n",
    "            penalty = ['l2']\n",
    "            C = [100, 10, 1.0, 0.1, 0.01]\n",
    "            lr_params = dict(solver=solver, penalty=penalty, C=C)\n",
    "\n",
    "            # cross validation\n",
    "            cv = RepeatedStratifiedKFold(\n",
    "                n_splits=2, n_repeats=1, random_state=1)\n",
    "            lr_gsearch = GridSearchCV(\n",
    "                estimator=lr_model,\n",
    "                param_grid=lr_params,\n",
    "                cv=cv,\n",
    "                scoring='accuracy',\n",
    "                error_score=0,\n",
    "                n_jobs=-1)\n",
    "            lr_gresult = lr_gsearch.fit(self.x, self.y)\n",
    "\n",
    "            return lr_gresult.best_params_\n",
    "\n",
    "        elif model == 'knn':\n",
    "            # model\n",
    "            knn_model = KNeighborsClassifier()\n",
    "\n",
    "            # params\n",
    "            n_neighbors = [100000]\n",
    "            weights = ['uniform', 'distance']\n",
    "            metric = ['euclidean', 'manhattan', 'minkowski']\n",
    "            knn_params = dict(n_neighbors=n_neighbors,\n",
    "                              weights=weights, metric=metric)\n",
    "\n",
    "            # cross validation\n",
    "            cv = RepeatedStratifiedKFold(\n",
    "                n_splits=2, n_repeats=1, random_state=1)\n",
    "            knn_gsearch = GridSearchCV(\n",
    "                estimator=knn_model,\n",
    "                param_grid=knn_params,\n",
    "                cv=cv,\n",
    "                scoring='accuracy',\n",
    "                error_score=0,\n",
    "                n_jobs=-1)\n",
    "            knn_gresult = knn_gsearch.fit(self.x, self.y)\n",
    "\n",
    "            return knn_gresult.best_params_\n",
    "\n",
    "        elif model == 'svm':\n",
    "            # model\n",
    "            svm_model = SVC()\n",
    "\n",
    "            # params\n",
    "            kernel = ['poly', 'rbf', 'sigmoid']\n",
    "            C = [50, 10, 1.0, 0.1, 0.01]\n",
    "            gamma = ['scale']\n",
    "            svm_params = dict(kernel=kernel, C=C, gamma=gamma)\n",
    "\n",
    "            # cross validation\n",
    "            cv = RepeatedStratifiedKFold(\n",
    "                n_splits=2, n_repeats=1, random_state=1)\n",
    "            svm_gsearch = GridSearchCV(\n",
    "                estimator=svm_model,\n",
    "                param_grid=svm_params,\n",
    "                cv=None,\n",
    "                scoring='accuracy',\n",
    "                error_score=0,\n",
    "                n_jobs=-1)\n",
    "            svm_gresult = svm_gsearch.fit(self.x, self.y)\n",
    "\n",
    "            return svm_gresult.best_params_\n",
    "\n",
    "        elif model == 'dtc':\n",
    "            # model\n",
    "            dtc_model = DecisionTreeClassifier()\n",
    "\n",
    "            # params\n",
    "            criterion = ['gini', 'entropy']\n",
    "            splitter = ['best', 'random']\n",
    "            max_features = ['sqrt', 'log2', None]\n",
    "            dtc_params = dict(criterion=criterion,\n",
    "                              splitter=splitter, max_features=max_features)\n",
    "\n",
    "            # cross validation\n",
    "            cv = RepeatedStratifiedKFold(\n",
    "                n_splits=2, n_repeats=1, random_state=1)\n",
    "            dtc_gsearch = GridSearchCV(\n",
    "                estimator=dtc_model,\n",
    "                param_grid=dtc_params,\n",
    "                cv=None,\n",
    "                scoring='accuracy',\n",
    "                error_score=0,\n",
    "                n_jobs=-1)\n",
    "            dtc_gresult = dtc_gsearch.fit(self.x, self.y)\n",
    "\n",
    "            return dtc_gresult.best_params_\n",
    "\n",
    "        elif model == 'rfc':\n",
    "            # model\n",
    "            rfc_model = RandomForestClassifier()\n",
    "\n",
    "            # params\n",
    "            n_estimators = [10, 100, 1000]\n",
    "            max_features = ['sqrt', 'log2']\n",
    "            rfc_params = dict(n_estimators=n_estimators,\n",
    "                              max_features=max_features)\n",
    "\n",
    "            # cross validation\n",
    "            cv = RepeatedStratifiedKFold(\n",
    "                n_splits=2, n_repeats=1, random_state=1)\n",
    "            rfc_gsearch = GridSearchCV(\n",
    "                estimator=rfc_model,\n",
    "                param_grid=rfc_params,\n",
    "                cv=None,\n",
    "                scoring='accuracy',\n",
    "                error_score=0,\n",
    "                n_jobs=-1)\n",
    "            rfc_gresult = rfc_gsearch.fit(self.x, self.y)\n",
    "\n",
    "            return rfc_gresult.best_params_\n",
    "\n",
    "        elif model == 'ensemble':\n",
    "            return\n",
    "\n",
    "        elif model == 'xgb':\n",
    "            return\n",
    "\n",
    "        elif model == 'nb':\n",
    "            return\n",
    "\n",
    "        else:\n",
    "            raise NameError(\n",
    "                'No grid search model available for {}.'.format(model))\n",
    "\n",
    "    def show_performance(self):\n",
    "        '''This method prints the accuracy, precision, recall, and f1 score for each model.'''\n",
    "\n",
    "        headers = ['Accuracy', 'Precision', 'Recall', 'F1 Score']\n",
    "        tbldata = []\n",
    "        for model in self.models:\n",
    "            accuracy = metrics.accuracy_score(\n",
    "                self.y_test, self.model_predicts[model])\n",
    "            f1score = metrics.f1_score(\n",
    "                self.y_test, self.model_predicts[model], average='weighted', zero_division=0)\n",
    "            precision = metrics.precision_score(\n",
    "                self.y_test, self.model_predicts[model], average='weighted', zero_division=0)\n",
    "            recall = metrics.recall_score(\n",
    "                self.y_test, self.model_predicts[model], average='weighted', zero_division=0)\n",
    "\n",
    "            tbldata.append([self.model_abr[model], accuracy,\n",
    "                           precision, recall, f1score])\n",
    "\n",
    "        return tabulate(tbldata, headers=headers, tablefmt=\"pretty\")"
   ]
  },
  {
   "cell_type": "code",
   "execution_count": 24,
   "metadata": {
    "execution": {
     "iopub.execute_input": "2022-11-19T21:05:32.246361Z",
     "iopub.status.busy": "2022-11-19T21:05:32.245974Z",
     "iopub.status.idle": "2022-11-19T21:27:20.240901Z",
     "shell.execute_reply": "2022-11-19T21:27:20.240028Z",
     "shell.execute_reply.started": "2022-11-19T21:05:32.246322Z"
    },
    "tags": []
   },
   "outputs": [
    {
     "name": "stdout",
     "output_type": "stream",
     "text": [
      "############################################################\n",
      "#################### Loading dataframe #####################\n",
      "############################################################\n",
      "####### Getting best parameters to create our models #######\n",
      "############################################################\n",
      "############################################################\n",
      "################### Logistic Regression ####################\n",
      "############################################################\n",
      "+++++ Creating and fitting the Logistic Regression model using its default parameters...\n",
      "############################################################\n",
      "################## KNeighbors Classifier ###################\n",
      "############################################################\n",
      "+++++ Creating and fitting the KNeighbors Classifier model using its default parameters...\n",
      "############################################################\n",
      "################# Decision Tree Classifier #################\n",
      "############################################################\n",
      "+++++ Creating and fitting the Decision Tree Classifier model using its default parameters...\n",
      "############################################################\n",
      "################# Random Forest Classifier #################\n",
      "############################################################\n",
      "+++++ Creating and fitting the Random Forest Classifier model using its default parameters...\n",
      "############################################################\n",
      "#################### Voting Classifier #####################\n",
      "############################################################\n",
      "+++++ Creating and fitting the Voting Classifier model using its default parameters...\n",
      "############################################################\n",
      "###################### XGB Classifier ######################\n",
      "############################################################\n",
      "+++++ Creating and fitting the XGB Classifier model using its default parameters...\n"
     ]
    },
    {
     "name": "stderr",
     "output_type": "stream",
     "text": [
      "/Users/sergani/Library/Python/3.9/lib/python/site-packages/xgboost/sklearn.py:1421: UserWarning: `use_label_encoder` is deprecated in 1.7.0.\n",
      "  warnings.warn(\"`use_label_encoder` is deprecated in 1.7.0.\")\n"
     ]
    },
    {
     "name": "stdout",
     "output_type": "stream",
     "text": [
      "############################################################\n",
      "####################### Naive Bayes ########################\n",
      "############################################################\n",
      "+++++ Creating and fitting the Naive Bayes model using its default parameters...\n",
      "############################################################\n",
      "####### All models created and fitted successfully! ########\n",
      "############################################################\n",
      "############################################################\n",
      "############ All y_preds created successfully! #############\n",
      "############################################################\n",
      "############################################################\n",
      "######### All y_pred_probas created successfully! ##########\n",
      "############################################################\n"
     ]
    }
   ],
   "source": [
    "cm = ClassifierModels(df[list(features)], x_train, y_train, x_test, y_test)"
   ]
  },
  {
   "cell_type": "markdown",
   "metadata": {},
   "source": [
    "## Model Performance"
   ]
  },
  {
   "cell_type": "code",
   "execution_count": 25,
   "metadata": {
    "execution": {
     "iopub.execute_input": "2022-11-19T21:27:20.243141Z",
     "iopub.status.busy": "2022-11-19T21:27:20.242759Z",
     "iopub.status.idle": "2022-11-19T21:27:20.571769Z",
     "shell.execute_reply": "2022-11-19T21:27:20.571150Z",
     "shell.execute_reply.started": "2022-11-19T21:27:20.243107Z"
    },
    "tags": []
   },
   "outputs": [
    {
     "name": "stdout",
     "output_type": "stream",
     "text": [
      "Performance of the different models:\n",
      "+--------------------------+--------------------+--------------------+--------------------+--------------------+\n",
      "|                          |      Accuracy      |     Precision      |       Recall       |      F1 Score      |\n",
      "+--------------------------+--------------------+--------------------+--------------------+--------------------+\n",
      "|   Logistic Regression    | 0.9988413328183702 | 0.9986952991551427 | 0.9988413328183702 | 0.9986707379255078 |\n",
      "|  KNeighbors Classifier   | 0.9992275552122467 | 0.9991962687061994 | 0.9992275552122467 | 0.9991381936699711 |\n",
      "| Decision Tree Classifier | 0.9981039991573329 | 0.9982156797393276 | 0.9981039991573329 | 0.9981570580154479 |\n",
      "| Random Forest Classifier | 0.9989993328885924 | 0.998933963040046  | 0.9989993328885924 | 0.9988393108331274 |\n",
      "|    Voting Classifier     | 0.9990695551420246 | 0.9990372405472858 | 0.9990695551420246 | 0.9989207627044867 |\n",
      "|      XGB Classifier      | 0.9991924440855307 | 0.9991394109680632 | 0.9991924440855307 | 0.9991108478013047 |\n",
      "|       Naive Bayes        | 0.9709104315157473 |  0.99751205706156  | 0.9709104315157473 | 0.9835943692957024 |\n",
      "+--------------------------+--------------------+--------------------+--------------------+--------------------+\n"
     ]
    }
   ],
   "source": [
    "print('Performance of the different models:\\n', cm.show_performance(), sep='')"
   ]
  },
  {
   "cell_type": "markdown",
   "metadata": {},
   "source": [
    "### ROC"
   ]
  },
  {
   "cell_type": "code",
   "execution_count": 26,
   "metadata": {
    "execution": {
     "iopub.execute_input": "2022-11-19T21:27:20.573113Z",
     "iopub.status.busy": "2022-11-19T21:27:20.572637Z",
     "iopub.status.idle": "2022-11-19T21:27:20.815985Z",
     "shell.execute_reply": "2022-11-19T21:27:20.815310Z",
     "shell.execute_reply.started": "2022-11-19T21:27:20.573091Z"
    },
    "tags": []
   },
   "outputs": [
    {
     "data": {
      "text/plain": [
       "Text(0.5, 1.0, 'ROC Curves for Models')"
      ]
     },
     "execution_count": 26,
     "metadata": {},
     "output_type": "execute_result"
    },
    {
     "data": {
      "image/png": "[encoded data removed]",
      "text/plain": [
       "<Figure size 800x1000 with 1 Axes>"
      ]
     },
     "metadata": {},
     "output_type": "display_data"
    }
   ],
   "source": [
    "# collect the ROC results\n",
    "roc_results = {}\n",
    "\n",
    "for model in cm.model_abr:\n",
    "    fpr, tpr, thresholds = roc_curve(\n",
    "        cm.y_test, cm.model_predicts_proba[model][:, 1])\n",
    "\n",
    "    roc_results[model] = [fpr, tpr, thresholds]\n",
    "\n",
    "# graph the ROC of all of the models\n",
    "fig, ax0 = plt.subplots()\n",
    "\n",
    "ax0.plot([0, 1], [0, 1], 'k--')\n",
    "for model in roc_results:\n",
    "    ax0.plot(roc_results[model][0],\n",
    "             roc_results[model][1], c=np.random.rand(3,), label=cm.model_abr[model])\n",
    "ax0.set_xlabel('False Positive Rate')\n",
    "ax0.set_ylabel('True Positive Rate')\n",
    "\n",
    "ax0.legend()\n",
    "ax0.set_title('ROC Curves for Models')"
   ]
  },
  {
   "cell_type": "markdown",
   "metadata": {},
   "source": [
    "### AUC"
   ]
  },
  {
   "cell_type": "code",
   "execution_count": 27,
   "metadata": {
    "execution": {
     "iopub.execute_input": "2022-11-19T21:27:20.817833Z",
     "iopub.status.busy": "2022-11-19T21:27:20.817273Z",
     "iopub.status.idle": "2022-11-19T21:27:20.901010Z",
     "shell.execute_reply": "2022-11-19T21:27:20.900248Z",
     "shell.execute_reply.started": "2022-11-19T21:27:20.817813Z"
    },
    "tags": []
   },
   "outputs": [
    {
     "name": "stdout",
     "output_type": "stream",
     "text": [
      "+--------------------------+--------------------+\n",
      "|                          |        AUC         |\n",
      "+--------------------------+--------------------+\n",
      "|   Logistic Regression    | 0.9302291970988487 |\n",
      "|  KNeighbors Classifier   | 0.8810500367319228 |\n",
      "| Decision Tree Classifier | 0.7618486352249301 |\n",
      "| Random Forest Classifier | 0.9317759601710685 |\n",
      "|    Voting Classifier     | 0.9526559556995076 |\n",
      "|      XGB Classifier      | 0.9603173345596462 |\n",
      "|       Naive Bayes        | 0.929237722491934  |\n",
      "+--------------------------+--------------------+\n"
     ]
    }
   ],
   "source": [
    "# table headers and a dictionary to hold the values\n",
    "headers = ['AUC']\n",
    "tbl_data_dict = {}\n",
    "\n",
    "# loop over the classifier models and then their keys abbreviated keys\n",
    "for k in cm.model_abr:\n",
    "    auc = roc_auc_score(cm.y_test, cm.model_predicts_proba[k][:, 1])\n",
    "    tbl_data_dict.setdefault(cm.model_abr[k], []).append(auc)\n",
    "\n",
    "# create the table data from the dictionary created above\n",
    "# tabulate doesn't take table data in the form of dictionary created above\n",
    "tbldata = []\n",
    "for k, v in tbl_data_dict.items():\n",
    "    tbldata.append([k] + v)\n",
    "\n",
    "print(tabulate(tbldata, headers=headers, tablefmt='pretty'))\n"
   ]
  },
  {
   "cell_type": "markdown",
   "metadata": {},
   "source": [
    "# Deep Learning"
   ]
  },
  {
   "cell_type": "code",
   "execution_count": 28,
   "metadata": {
    "execution": {
     "iopub.execute_input": "2022-11-19T21:35:12.105972Z",
     "iopub.status.busy": "2022-11-19T21:35:12.105592Z",
     "iopub.status.idle": "2022-11-19T21:35:12.113066Z",
     "shell.execute_reply": "2022-11-19T21:35:12.112541Z",
     "shell.execute_reply.started": "2022-11-19T21:35:12.105949Z"
    }
   },
   "outputs": [],
   "source": [
    "%load_ext tensorboard\n",
    "\n",
    "# create folders\n",
    "now = datetime.now().strftime('%Y%m%d%H%M')\n",
    "log_folder = f'Tensorboard Logs/Classification - Credit Card Payments {now}'\n",
    "\n",
    "# callbacks for TensorBoard\n",
    "callbacks = TensorBoard(log_dir=log_folder, histogram_freq=1)"
   ]
  },
  {
   "cell_type": "code",
   "execution_count": 29,
   "metadata": {
    "execution": {
     "iopub.execute_input": "2022-11-19T21:36:38.963024Z",
     "iopub.status.busy": "2022-11-19T21:36:38.962646Z",
     "iopub.status.idle": "2022-11-19T21:36:38.989173Z",
     "shell.execute_reply": "2022-11-19T21:36:38.988388Z",
     "shell.execute_reply.started": "2022-11-19T21:36:38.963002Z"
    },
    "tags": []
   },
   "outputs": [],
   "source": [
    "x_dl = df.drop('Class', axis=1).values\n",
    "y_dl = df['Class'].values\n",
    "\n",
    "# # categorical encoded columns + selected features only\n",
    "# x = df[list(features)]\n",
    "# y = df['Class']\n"
   ]
  },
  {
   "cell_type": "code",
   "execution_count": 30,
   "metadata": {
    "execution": {
     "iopub.execute_input": "2022-11-19T21:36:43.111103Z",
     "iopub.status.busy": "2022-11-19T21:36:43.110727Z",
     "iopub.status.idle": "2022-11-19T21:36:43.248590Z",
     "shell.execute_reply": "2022-11-19T21:36:43.247840Z",
     "shell.execute_reply.started": "2022-11-19T21:36:43.111081Z"
    },
    "tags": []
   },
   "outputs": [
    {
     "name": "stdout",
     "output_type": "stream",
     "text": [
      "Model: \"sequential\"\n",
      "_________________________________________________________________\n",
      " Layer (type)                Output Shape              Param #   \n",
      "=================================================================\n",
      " dense (Dense)               (None, 6)                 186       \n",
      "                                                                 \n",
      " dense_1 (Dense)             (None, 3)                 21        \n",
      "                                                                 \n",
      " dense_2 (Dense)             (None, 1)                 4         \n",
      "                                                                 \n",
      "=================================================================\n",
      "Total params: 211\n",
      "Trainable params: 211\n",
      "Non-trainable params: 0\n",
      "_________________________________________________________________\n"
     ]
    },
    {
     "name": "stderr",
     "output_type": "stream",
     "text": [
      "2022-11-25 08:43:04.465351: I tensorflow/core/platform/cpu_feature_guard.cc:193] This TensorFlow binary is optimized with oneAPI Deep Neural Network Library (oneDNN) to use the following CPU instructions in performance-critical operations:  AVX2 FMA\n",
      "To enable them in other operations, rebuild TensorFlow with the appropriate compiler flags.\n"
     ]
    }
   ],
   "source": [
    "# clear previous sessions\n",
    "keras.backend.clear_session()\n",
    "\n",
    "# create keras model\n",
    "model = keras.models.Sequential([\n",
    "    keras.layers.Dense(6, activation='relu', input_dim=x_dl.shape[1]),\n",
    "    keras.layers.Dense(3, activation='relu'),\n",
    "    keras.layers.Dense(1, activation='sigmoid')  # in case of multiple classification use more perceptrons and softmax\n",
    "])\n",
    "\n",
    "model.summary()"
   ]
  },
  {
   "cell_type": "code",
   "execution_count": 31,
   "metadata": {
    "execution": {
     "iopub.execute_input": "2022-11-19T21:37:05.415815Z",
     "iopub.status.busy": "2022-11-19T21:37:05.415435Z",
     "iopub.status.idle": "2022-11-19T21:45:00.120476Z",
     "shell.execute_reply": "2022-11-19T21:45:00.119912Z",
     "shell.execute_reply.started": "2022-11-19T21:37:05.415793Z"
    },
    "tags": []
   },
   "outputs": [
    {
     "name": "stdout",
     "output_type": "stream",
     "text": [
      "Epoch 1/50\n",
      "7121/7121 [==============================] - 12s 2ms/step - loss: 0.1656 - auc: 0.8619 - precision: 0.0618 - recall: 0.5372 - val_loss: 0.0193 - val_auc: 0.9260 - val_precision: 1.0000 - val_recall: 0.4000\n",
      "Epoch 2/50\n",
      "7121/7121 [==============================] - 9s 1ms/step - loss: 0.0091 - auc: 0.9294 - precision: 0.8638 - recall: 0.5779 - val_loss: 0.0042 - val_auc: 0.9260 - val_precision: 1.0000 - val_recall: 0.4667\n",
      "Epoch 3/50\n",
      "7121/7121 [==============================] - 9s 1ms/step - loss: 0.0046 - auc: 0.9372 - precision: 0.8615 - recall: 0.6115 - val_loss: 0.0031 - val_auc: 0.9262 - val_precision: 0.8305 - val_recall: 0.6533\n",
      "Epoch 4/50\n",
      "7121/7121 [==============================] - 9s 1ms/step - loss: 0.0039 - auc: 0.9372 - precision: 0.8692 - recall: 0.6691 - val_loss: 0.0030 - val_auc: 0.9196 - val_precision: 0.9375 - val_recall: 0.6000\n",
      "Epoch 5/50\n",
      "7121/7121 [==============================] - 9s 1ms/step - loss: 0.0034 - auc: 0.9456 - precision: 0.8780 - recall: 0.6906 - val_loss: 0.0028 - val_auc: 0.9195 - val_precision: 0.9123 - val_recall: 0.6933\n",
      "Epoch 6/50\n",
      "7121/7121 [==============================] - 9s 1ms/step - loss: 0.0032 - auc: 0.9468 - precision: 0.8732 - recall: 0.7098 - val_loss: 0.0028 - val_auc: 0.9131 - val_precision: 0.9123 - val_recall: 0.6933\n",
      "Epoch 7/50\n",
      "7121/7121 [==============================] - 9s 1ms/step - loss: 0.0030 - auc: 0.9492 - precision: 0.8844 - recall: 0.7338 - val_loss: 0.0028 - val_auc: 0.8931 - val_precision: 1.0000 - val_recall: 0.6933\n",
      "Epoch 8/50\n",
      "7121/7121 [==============================] - 9s 1ms/step - loss: 0.0028 - auc: 0.9504 - precision: 0.9057 - recall: 0.7602 - val_loss: 0.0030 - val_auc: 0.8799 - val_precision: 1.0000 - val_recall: 0.6933\n",
      "Epoch 9/50\n",
      "7121/7121 [==============================] - 9s 1ms/step - loss: 0.0027 - auc: 0.9493 - precision: 0.9143 - recall: 0.7674 - val_loss: 0.0028 - val_auc: 0.9131 - val_precision: 0.9630 - val_recall: 0.6933\n",
      "Epoch 10/50\n",
      "7121/7121 [==============================] - 9s 1ms/step - loss: 0.0026 - auc: 0.9529 - precision: 0.9181 - recall: 0.7794 - val_loss: 0.0028 - val_auc: 0.9063 - val_precision: 0.8833 - val_recall: 0.7067\n",
      "Epoch 11/50\n",
      "7121/7121 [==============================] - 9s 1ms/step - loss: 0.0026 - auc: 0.9517 - precision: 0.9124 - recall: 0.7746 - val_loss: 0.0029 - val_auc: 0.8999 - val_precision: 0.9123 - val_recall: 0.6933\n",
      "Epoch 12/50\n",
      "7121/7121 [==============================] - 9s 1ms/step - loss: 0.0026 - auc: 0.9505 - precision: 0.9211 - recall: 0.7842 - val_loss: 0.0030 - val_auc: 0.8865 - val_precision: 0.9074 - val_recall: 0.6533\n",
      "Epoch 13/50\n",
      "7121/7121 [==============================] - 9s 1ms/step - loss: 0.0025 - auc: 0.9529 - precision: 0.9222 - recall: 0.7962 - val_loss: 0.0029 - val_auc: 0.9064 - val_precision: 0.9623 - val_recall: 0.6800\n",
      "Epoch 14/50\n",
      "7121/7121 [==============================] - 9s 1ms/step - loss: 0.0025 - auc: 0.9529 - precision: 0.9098 - recall: 0.7986 - val_loss: 0.0032 - val_auc: 0.8932 - val_precision: 0.9800 - val_recall: 0.6533\n",
      "Epoch 15/50\n",
      "7121/7121 [==============================] - 9s 1ms/step - loss: 0.0025 - auc: 0.9554 - precision: 0.9194 - recall: 0.7938 - val_loss: 0.0030 - val_auc: 0.9065 - val_precision: 0.9057 - val_recall: 0.6400\n",
      "Epoch 16/50\n",
      "7121/7121 [==============================] - 9s 1ms/step - loss: 0.0024 - auc: 0.9542 - precision: 0.9333 - recall: 0.8058 - val_loss: 0.0033 - val_auc: 0.8798 - val_precision: 0.9796 - val_recall: 0.6400\n",
      "Epoch 17/50\n",
      "7121/7121 [==============================] - 9s 1ms/step - loss: 0.0024 - auc: 0.9553 - precision: 0.9022 - recall: 0.7746 - val_loss: 0.0028 - val_auc: 0.8999 - val_precision: 0.9815 - val_recall: 0.7067\n",
      "Epoch 18/50\n",
      "7121/7121 [==============================] - 9s 1ms/step - loss: 0.0024 - auc: 0.9530 - precision: 0.9201 - recall: 0.8010 - val_loss: 0.0032 - val_auc: 0.8866 - val_precision: 0.9796 - val_recall: 0.6400\n",
      "Epoch 19/50\n",
      "7121/7121 [==============================] - 9s 1ms/step - loss: 0.0024 - auc: 0.9554 - precision: 0.9218 - recall: 0.7914 - val_loss: 0.0031 - val_auc: 0.8866 - val_precision: 0.9444 - val_recall: 0.6800\n",
      "Epoch 20/50\n",
      "7121/7121 [==============================] - 9s 1ms/step - loss: 0.0023 - auc: 0.9542 - precision: 0.9365 - recall: 0.8129 - val_loss: 0.0032 - val_auc: 0.8931 - val_precision: 0.8500 - val_recall: 0.6800\n",
      "Epoch 21/50\n",
      "7121/7121 [==============================] - 9s 1ms/step - loss: 0.0023 - auc: 0.9565 - precision: 0.9282 - recall: 0.8058 - val_loss: 0.0030 - val_auc: 0.8998 - val_precision: 0.9259 - val_recall: 0.6667\n",
      "Epoch 22/50\n",
      "7121/7121 [==============================] - 9s 1ms/step - loss: 0.0023 - auc: 0.9578 - precision: 0.9178 - recall: 0.8034 - val_loss: 0.0030 - val_auc: 0.8998 - val_precision: 0.9273 - val_recall: 0.6800\n",
      "Epoch 23/50\n",
      "7121/7121 [==============================] - 9s 1ms/step - loss: 0.0023 - auc: 0.9578 - precision: 0.9224 - recall: 0.7986 - val_loss: 0.0029 - val_auc: 0.8998 - val_precision: 0.9464 - val_recall: 0.7067\n",
      "Epoch 24/50\n",
      "7121/7121 [==============================] - 9s 1ms/step - loss: 0.0023 - auc: 0.9566 - precision: 0.9233 - recall: 0.8082 - val_loss: 0.0032 - val_auc: 0.8865 - val_precision: 0.9630 - val_recall: 0.6933\n",
      "Epoch 25/50\n",
      "7121/7121 [==============================] - 9s 1ms/step - loss: 0.0023 - auc: 0.9566 - precision: 0.9123 - recall: 0.7986 - val_loss: 0.0032 - val_auc: 0.8864 - val_precision: 0.9464 - val_recall: 0.7067\n",
      "Epoch 26/50\n",
      "7121/7121 [==============================] - 9s 1ms/step - loss: 0.0022 - auc: 0.9601 - precision: 0.9344 - recall: 0.8201 - val_loss: 0.0029 - val_auc: 0.8931 - val_precision: 0.9455 - val_recall: 0.6933\n",
      "Epoch 27/50\n",
      "7121/7121 [==============================] - 9s 1ms/step - loss: 0.0023 - auc: 0.9578 - precision: 0.9258 - recall: 0.8082 - val_loss: 0.0029 - val_auc: 0.8998 - val_precision: 0.9286 - val_recall: 0.6933\n",
      "Epoch 28/50\n",
      "7121/7121 [==============================] - 9s 1ms/step - loss: 0.0022 - auc: 0.9614 - precision: 0.9337 - recall: 0.8106 - val_loss: 0.0031 - val_auc: 0.8931 - val_precision: 0.9138 - val_recall: 0.7067\n",
      "Epoch 29/50\n",
      "7121/7121 [==============================] - 9s 1ms/step - loss: 0.0023 - auc: 0.9590 - precision: 0.9151 - recall: 0.8010 - val_loss: 0.0032 - val_auc: 0.8866 - val_precision: 0.9636 - val_recall: 0.7067\n",
      "Epoch 30/50\n",
      "7121/7121 [==============================] - 9s 1ms/step - loss: 0.0023 - auc: 0.9590 - precision: 0.9126 - recall: 0.8010 - val_loss: 0.0029 - val_auc: 0.8998 - val_precision: 0.9630 - val_recall: 0.6933\n",
      "Epoch 31/50\n",
      "7121/7121 [==============================] - 9s 1ms/step - loss: 0.0023 - auc: 0.9590 - precision: 0.9288 - recall: 0.8129 - val_loss: 0.0029 - val_auc: 0.8932 - val_precision: 0.9474 - val_recall: 0.7200\n",
      "Epoch 32/50\n",
      "7121/7121 [==============================] - 9s 1ms/step - loss: 0.0022 - auc: 0.9602 - precision: 0.9284 - recall: 0.8082 - val_loss: 0.0031 - val_auc: 0.8865 - val_precision: 0.9464 - val_recall: 0.7067\n",
      "Epoch 33/50\n",
      "7121/7121 [==============================] - 9s 1ms/step - loss: 0.0022 - auc: 0.9566 - precision: 0.9443 - recall: 0.8129 - val_loss: 0.0033 - val_auc: 0.8865 - val_precision: 0.9298 - val_recall: 0.7067\n",
      "Epoch 34/50\n",
      "7121/7121 [==============================] - 9s 1ms/step - loss: 0.0022 - auc: 0.9614 - precision: 0.9337 - recall: 0.8106 - val_loss: 0.0033 - val_auc: 0.8799 - val_precision: 0.9434 - val_recall: 0.6667\n",
      "Epoch 35/50\n",
      "7121/7121 [==============================] - 9s 1ms/step - loss: 0.0023 - auc: 0.9614 - precision: 0.9307 - recall: 0.8058 - val_loss: 0.0030 - val_auc: 0.8932 - val_precision: 0.9630 - val_recall: 0.6933\n",
      "Epoch 36/50\n",
      "7121/7121 [==============================] - 9s 1ms/step - loss: 0.0022 - auc: 0.9578 - precision: 0.9302 - recall: 0.7986 - val_loss: 0.0031 - val_auc: 0.9131 - val_precision: 0.9464 - val_recall: 0.7067\n",
      "Epoch 37/50\n",
      "7121/7121 [==============================] - 9s 1ms/step - loss: 0.0022 - auc: 0.9566 - precision: 0.9086 - recall: 0.8106 - val_loss: 0.0032 - val_auc: 0.8799 - val_precision: 0.9811 - val_recall: 0.6933\n",
      "Epoch 38/50\n",
      "7121/7121 [==============================] - 9s 1ms/step - loss: 0.0022 - auc: 0.9602 - precision: 0.9264 - recall: 0.8153 - val_loss: 0.0029 - val_auc: 0.9064 - val_precision: 0.8710 - val_recall: 0.7200\n",
      "Epoch 39/50\n",
      "7121/7121 [==============================] - 9s 1ms/step - loss: 0.0022 - auc: 0.9614 - precision: 0.9402 - recall: 0.8297 - val_loss: 0.0031 - val_auc: 0.8998 - val_precision: 0.8438 - val_recall: 0.7200\n",
      "Epoch 40/50\n",
      "7121/7121 [==============================] - 10s 1ms/step - loss: 0.0022 - auc: 0.9590 - precision: 0.9183 - recall: 0.8082 - val_loss: 0.0031 - val_auc: 0.8865 - val_precision: 0.9310 - val_recall: 0.7200\n",
      "Epoch 41/50\n",
      "7121/7121 [==============================] - 9s 1ms/step - loss: 0.0022 - auc: 0.9590 - precision: 0.9272 - recall: 0.8249 - val_loss: 0.0031 - val_auc: 0.8732 - val_precision: 0.9818 - val_recall: 0.7200\n",
      "Epoch 42/50\n",
      "7121/7121 [==============================] - 9s 1ms/step - loss: 0.0022 - auc: 0.9578 - precision: 0.9306 - recall: 0.8034 - val_loss: 0.0030 - val_auc: 0.8866 - val_precision: 0.9818 - val_recall: 0.7200\n",
      "Epoch 43/50\n",
      "7121/7121 [==============================] - 9s 1ms/step - loss: 0.0022 - auc: 0.9638 - precision: 0.9370 - recall: 0.8201 - val_loss: 0.0029 - val_auc: 0.8998 - val_precision: 0.9808 - val_recall: 0.6800\n",
      "Epoch 44/50\n",
      "7121/7121 [==============================] - 9s 1ms/step - loss: 0.0021 - auc: 0.9614 - precision: 0.9256 - recall: 0.8058 - val_loss: 0.0029 - val_auc: 0.9065 - val_precision: 0.8710 - val_recall: 0.7200\n",
      "Epoch 45/50\n",
      "7121/7121 [==============================] - 9s 1ms/step - loss: 0.0022 - auc: 0.9626 - precision: 0.9180 - recall: 0.8058 - val_loss: 0.0031 - val_auc: 0.8865 - val_precision: 0.9123 - val_recall: 0.6933\n",
      "Epoch 46/50\n",
      "7121/7121 [==============================] - 9s 1ms/step - loss: 0.0021 - auc: 0.9614 - precision: 0.9344 - recall: 0.8201 - val_loss: 0.0035 - val_auc: 0.8731 - val_precision: 0.9298 - val_recall: 0.7067\n",
      "Epoch 47/50\n",
      "7121/7121 [==============================] - 11s 2ms/step - loss: 0.0021 - auc: 0.9626 - precision: 0.9319 - recall: 0.8201 - val_loss: 0.0035 - val_auc: 0.9129 - val_precision: 0.8088 - val_recall: 0.7333\n",
      "Epoch 48/50\n",
      "7121/7121 [==============================] - 9s 1ms/step - loss: 0.0021 - auc: 0.9614 - precision: 0.9423 - recall: 0.8225 - val_loss: 0.0032 - val_auc: 0.8798 - val_precision: 0.9310 - val_recall: 0.7200\n",
      "Epoch 49/50\n",
      "7121/7121 [==============================] - 9s 1ms/step - loss: 0.0021 - auc: 0.9638 - precision: 0.9423 - recall: 0.8225 - val_loss: 0.0032 - val_auc: 0.8864 - val_precision: 0.9153 - val_recall: 0.7200\n",
      "Epoch 50/50\n",
      "7121/7121 [==============================] - 9s 1ms/step - loss: 0.0020 - auc: 0.9602 - precision: 0.9377 - recall: 0.8297 - val_loss: 0.0030 - val_auc: 0.8996 - val_precision: 0.9000 - val_recall: 0.7200\n"
     ]
    },
    {
     "data": {
      "text/plain": [
       "<keras.callbacks.History at 0x15c2f1490>"
      ]
     },
     "execution_count": 31,
     "metadata": {},
     "output_type": "execute_result"
    }
   ],
   "source": [
    "sc = StandardScaler()\n",
    "x_scaled = sc.fit_transform(x_dl)\n",
    "\n",
    "model.compile(optimizer='Adam', loss='BinaryCrossentropy',\n",
    "              metrics=['AUC', 'Precision', 'Recall'])\n",
    "\n",
    "# this model shows 'vanishing gradient' behavior; loss doesn't change after a few epochs\n",
    "model.fit(x=x_scaled, y=y_dl, validation_split=0.2,\n",
    "          epochs=50, callbacks=callbacks)"
   ]
  }
 ],
 "metadata": {
  "kernelspec": {
   "display_name": "saturn (Python 3)",
   "language": "python",
   "name": "python3"
  },
  "language_info": {
   "codemirror_mode": {
    "name": "ipython",
    "version": 3
   },
   "file_extension": ".py",
   "mimetype": "text/x-python",
   "name": "python",
   "nbconvert_exporter": "python",
   "pygments_lexer": "ipython3",
   "version": "3.9.6"
  },
  "vscode": {
   "interpreter": {
    "hash": "31f2aee4e71d21fbe5cf8b01ff0e069b9275f58929596ceb00d14d90e3e16cd6"
   }
  }
 },
 "nbformat": 4,
 "nbformat_minor": 4
}
